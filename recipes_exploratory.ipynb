{
 "cells": [
  {
   "cell_type": "code",
   "execution_count": 7,
   "metadata": {},
   "outputs": [],
   "source": [
    "import pandas as pd\n",
    "import numpy as np\n",
    "import sqlalchemy as sq\n",
    "import datetime\n",
    "\n",
    "from plotly import graph_objs as go\n",
    "import plotly.express as px\n",
    "import plotly.offline as py\n",
    "from plotly.subplots import make_subplots\n",
    "\n",
    "import geopandas as gp\n",
    "import datetime as dt\n",
    "import ssl\n",
    "from chord import Chord\n",
    "import itertools\n",
    "\n",
    "pd.options.display.max_rows = 999\n",
    "\n",
    "pd.set_option('display.float_format', lambda x: '%.5f' % x)\n",
    "\n",
    "%matplotlib inline"
   ]
  },
  {
   "cell_type": "code",
   "execution_count": 8,
   "metadata": {},
   "outputs": [],
   "source": [
    "ssl._create_default_https_context = ssl._create_unverified_context"
   ]
  },
  {
   "cell_type": "code",
   "execution_count": 10,
   "metadata": {},
   "outputs": [
    {
     "name": "stdout",
     "output_type": "stream",
     "text": [
      "(7486, 4)\n"
     ]
    }
   ],
   "source": [
    "df = pd.read_csv('recipes.csv')\n",
    "print(df.shape)"
   ]
  },
  {
   "cell_type": "code",
   "execution_count": 11,
   "metadata": {},
   "outputs": [
    {
     "data": {
      "text/html": [
       "<div>\n",
       "<style scoped>\n",
       "    .dataframe tbody tr th:only-of-type {\n",
       "        vertical-align: middle;\n",
       "    }\n",
       "\n",
       "    .dataframe tbody tr th {\n",
       "        vertical-align: top;\n",
       "    }\n",
       "\n",
       "    .dataframe thead th {\n",
       "        text-align: right;\n",
       "    }\n",
       "</style>\n",
       "<table border=\"1\" class=\"dataframe\">\n",
       "  <thead>\n",
       "    <tr style=\"text-align: right;\">\n",
       "      <th></th>\n",
       "      <th>recipe_name</th>\n",
       "      <th>flavors</th>\n",
       "      <th>rating</th>\n",
       "      <th>success</th>\n",
       "    </tr>\n",
       "  </thead>\n",
       "  <tbody>\n",
       "    <tr>\n",
       "      <th>0</th>\n",
       "      <td>Big Apple Crumble Cupcakes</td>\n",
       "      <td>cinnamon cinnamon apple cinnamon vanilla</td>\n",
       "      <td>0.00000</td>\n",
       "      <td>0.00000</td>\n",
       "    </tr>\n",
       "    <tr>\n",
       "      <th>1</th>\n",
       "      <td>Bacon-Latticed Apple Pie</td>\n",
       "      <td>apple lemon cinnamon nutmeg</td>\n",
       "      <td>0.00000</td>\n",
       "      <td>0.00000</td>\n",
       "    </tr>\n",
       "    <tr>\n",
       "      <th>2</th>\n",
       "      <td>Lemon and Fig Cupcakes</td>\n",
       "      <td>vanilla lemon lemon fig vanilla</td>\n",
       "      <td>0.00000</td>\n",
       "      <td>0.00000</td>\n",
       "    </tr>\n",
       "    <tr>\n",
       "      <th>3</th>\n",
       "      <td>Toasted Coconut Chia Pudding</td>\n",
       "      <td>almond coconut</td>\n",
       "      <td>0.00000</td>\n",
       "      <td>0.00000</td>\n",
       "    </tr>\n",
       "    <tr>\n",
       "      <th>4</th>\n",
       "      <td>Coconut-Strawberry Ice Cream Pie</td>\n",
       "      <td>coconut graham coconut coconut strawberry stra...</td>\n",
       "      <td>4.00000</td>\n",
       "      <td>0.10000</td>\n",
       "    </tr>\n",
       "  </tbody>\n",
       "</table>\n",
       "</div>"
      ],
      "text/plain": [
       "                         recipe_name  \\\n",
       "0        Big Apple Crumble Cupcakes    \n",
       "1          Bacon-Latticed Apple Pie    \n",
       "2            Lemon and Fig Cupcakes    \n",
       "3      Toasted Coconut Chia Pudding    \n",
       "4  Coconut-Strawberry Ice Cream Pie    \n",
       "\n",
       "                                             flavors  rating  success  \n",
       "0           cinnamon cinnamon apple cinnamon vanilla 0.00000  0.00000  \n",
       "1                        apple lemon cinnamon nutmeg 0.00000  0.00000  \n",
       "2                    vanilla lemon lemon fig vanilla 0.00000  0.00000  \n",
       "3                                     almond coconut 0.00000  0.00000  \n",
       "4  coconut graham coconut coconut strawberry stra... 4.00000  0.10000  "
      ]
     },
     "execution_count": 11,
     "metadata": {},
     "output_type": "execute_result"
    }
   ],
   "source": [
    "df.head(5)"
   ]
  },
  {
   "cell_type": "code",
   "execution_count": 12,
   "metadata": {},
   "outputs": [
    {
     "data": {
      "text/plain": [
       "recipe_name      0\n",
       "flavors        251\n",
       "rating           0\n",
       "success          0\n",
       "dtype: int64"
      ]
     },
     "execution_count": 12,
     "metadata": {},
     "output_type": "execute_result"
    }
   ],
   "source": [
    "df.isna().sum()"
   ]
  },
  {
   "cell_type": "code",
   "execution_count": 13,
   "metadata": {},
   "outputs": [],
   "source": [
    "df = df.dropna()"
   ]
  },
  {
   "cell_type": "code",
   "execution_count": 14,
   "metadata": {},
   "outputs": [],
   "source": [
    "df['flavor_list'] = df['flavors'].apply(lambda x: sorted(list(set(x.split()))))"
   ]
  },
  {
   "cell_type": "code",
   "execution_count": 15,
   "metadata": {},
   "outputs": [
    {
     "data": {
      "text/html": [
       "<div>\n",
       "<style scoped>\n",
       "    .dataframe tbody tr th:only-of-type {\n",
       "        vertical-align: middle;\n",
       "    }\n",
       "\n",
       "    .dataframe tbody tr th {\n",
       "        vertical-align: top;\n",
       "    }\n",
       "\n",
       "    .dataframe thead th {\n",
       "        text-align: right;\n",
       "    }\n",
       "</style>\n",
       "<table border=\"1\" class=\"dataframe\">\n",
       "  <thead>\n",
       "    <tr style=\"text-align: right;\">\n",
       "      <th></th>\n",
       "      <th>recipe_name</th>\n",
       "      <th>flavors</th>\n",
       "      <th>rating</th>\n",
       "      <th>success</th>\n",
       "      <th>flavor_list</th>\n",
       "    </tr>\n",
       "  </thead>\n",
       "  <tbody>\n",
       "    <tr>\n",
       "      <th>0</th>\n",
       "      <td>Big Apple Crumble Cupcakes</td>\n",
       "      <td>cinnamon cinnamon apple cinnamon vanilla</td>\n",
       "      <td>0.00000</td>\n",
       "      <td>0.00000</td>\n",
       "      <td>[apple, cinnamon, vanilla]</td>\n",
       "    </tr>\n",
       "    <tr>\n",
       "      <th>1</th>\n",
       "      <td>Bacon-Latticed Apple Pie</td>\n",
       "      <td>apple lemon cinnamon nutmeg</td>\n",
       "      <td>0.00000</td>\n",
       "      <td>0.00000</td>\n",
       "      <td>[apple, cinnamon, lemon, nutmeg]</td>\n",
       "    </tr>\n",
       "    <tr>\n",
       "      <th>2</th>\n",
       "      <td>Lemon and Fig Cupcakes</td>\n",
       "      <td>vanilla lemon lemon fig vanilla</td>\n",
       "      <td>0.00000</td>\n",
       "      <td>0.00000</td>\n",
       "      <td>[fig, lemon, vanilla]</td>\n",
       "    </tr>\n",
       "    <tr>\n",
       "      <th>3</th>\n",
       "      <td>Toasted Coconut Chia Pudding</td>\n",
       "      <td>almond coconut</td>\n",
       "      <td>0.00000</td>\n",
       "      <td>0.00000</td>\n",
       "      <td>[almond, coconut]</td>\n",
       "    </tr>\n",
       "    <tr>\n",
       "      <th>4</th>\n",
       "      <td>Coconut-Strawberry Ice Cream Pie</td>\n",
       "      <td>coconut graham coconut coconut strawberry stra...</td>\n",
       "      <td>4.00000</td>\n",
       "      <td>0.10000</td>\n",
       "      <td>[coconut, graham, lemon, strawberry]</td>\n",
       "    </tr>\n",
       "  </tbody>\n",
       "</table>\n",
       "</div>"
      ],
      "text/plain": [
       "                         recipe_name  \\\n",
       "0        Big Apple Crumble Cupcakes    \n",
       "1          Bacon-Latticed Apple Pie    \n",
       "2            Lemon and Fig Cupcakes    \n",
       "3      Toasted Coconut Chia Pudding    \n",
       "4  Coconut-Strawberry Ice Cream Pie    \n",
       "\n",
       "                                             flavors  rating  success  \\\n",
       "0           cinnamon cinnamon apple cinnamon vanilla 0.00000  0.00000   \n",
       "1                        apple lemon cinnamon nutmeg 0.00000  0.00000   \n",
       "2                    vanilla lemon lemon fig vanilla 0.00000  0.00000   \n",
       "3                                     almond coconut 0.00000  0.00000   \n",
       "4  coconut graham coconut coconut strawberry stra... 4.00000  0.10000   \n",
       "\n",
       "                            flavor_list  \n",
       "0            [apple, cinnamon, vanilla]  \n",
       "1      [apple, cinnamon, lemon, nutmeg]  \n",
       "2                 [fig, lemon, vanilla]  \n",
       "3                     [almond, coconut]  \n",
       "4  [coconut, graham, lemon, strawberry]  "
      ]
     },
     "execution_count": 15,
     "metadata": {},
     "output_type": "execute_result"
    }
   ],
   "source": [
    "df.head(5)"
   ]
  },
  {
   "cell_type": "code",
   "execution_count": 16,
   "metadata": {},
   "outputs": [],
   "source": [
    "flavors = []\n",
    "for flavor_list in df['flavor_list'].values:\n",
    "    flavors = flavors + flavor_list"
   ]
  },
  {
   "cell_type": "code",
   "execution_count": 17,
   "metadata": {},
   "outputs": [],
   "source": [
    "flavor_series = pd.Series(flavors)"
   ]
  },
  {
   "cell_type": "code",
   "execution_count": 18,
   "metadata": {},
   "outputs": [
    {
     "data": {
      "text/plain": [
       "98"
      ]
     },
     "execution_count": 18,
     "metadata": {},
     "output_type": "execute_result"
    }
   ],
   "source": [
    "flavor_series.nunique()"
   ]
  },
  {
   "cell_type": "markdown",
   "metadata": {},
   "source": [
    "Look at top dessert flavors"
   ]
  },
  {
   "cell_type": "markdown",
   "metadata": {},
   "source": [
    "Look at cooccurence of dessert flavors"
   ]
  },
  {
   "cell_type": "code",
   "execution_count": 19,
   "metadata": {},
   "outputs": [],
   "source": [
    "flavor_cdf = pd.DataFrame(flavor_series.value_counts()).reset_index()\n",
    "flavor_cdf.columns = ['flavor', 'recipe_counts']"
   ]
  },
  {
   "cell_type": "code",
   "execution_count": 80,
   "metadata": {},
   "outputs": [
    {
     "data": {
      "text/html": [
       "<div>\n",
       "<style scoped>\n",
       "    .dataframe tbody tr th:only-of-type {\n",
       "        vertical-align: middle;\n",
       "    }\n",
       "\n",
       "    .dataframe tbody tr th {\n",
       "        vertical-align: top;\n",
       "    }\n",
       "\n",
       "    .dataframe thead th {\n",
       "        text-align: right;\n",
       "    }\n",
       "</style>\n",
       "<table border=\"1\" class=\"dataframe\">\n",
       "  <thead>\n",
       "    <tr style=\"text-align: right;\">\n",
       "      <th></th>\n",
       "      <th>flavor</th>\n",
       "      <th>recipe_counts</th>\n",
       "    </tr>\n",
       "  </thead>\n",
       "  <tbody>\n",
       "    <tr>\n",
       "      <th>0</th>\n",
       "      <td>vanilla</td>\n",
       "      <td>3689</td>\n",
       "    </tr>\n",
       "    <tr>\n",
       "      <th>1</th>\n",
       "      <td>chocolate</td>\n",
       "      <td>1812</td>\n",
       "    </tr>\n",
       "    <tr>\n",
       "      <th>2</th>\n",
       "      <td>lemon</td>\n",
       "      <td>1628</td>\n",
       "    </tr>\n",
       "    <tr>\n",
       "      <th>3</th>\n",
       "      <td>cinnamon</td>\n",
       "      <td>1436</td>\n",
       "    </tr>\n",
       "    <tr>\n",
       "      <th>4</th>\n",
       "      <td>orange</td>\n",
       "      <td>941</td>\n",
       "    </tr>\n",
       "    <tr>\n",
       "      <th>5</th>\n",
       "      <td>almond</td>\n",
       "      <td>887</td>\n",
       "    </tr>\n",
       "    <tr>\n",
       "      <th>6</th>\n",
       "      <td>cocoa</td>\n",
       "      <td>629</td>\n",
       "    </tr>\n",
       "    <tr>\n",
       "      <th>7</th>\n",
       "      <td>ginger</td>\n",
       "      <td>590</td>\n",
       "    </tr>\n",
       "    <tr>\n",
       "      <th>8</th>\n",
       "      <td>raspberry</td>\n",
       "      <td>512</td>\n",
       "    </tr>\n",
       "    <tr>\n",
       "      <th>9</th>\n",
       "      <td>apple</td>\n",
       "      <td>508</td>\n",
       "    </tr>\n",
       "  </tbody>\n",
       "</table>\n",
       "</div>"
      ],
      "text/plain": [
       "      flavor  recipe_counts\n",
       "0    vanilla           3689\n",
       "1  chocolate           1812\n",
       "2      lemon           1628\n",
       "3   cinnamon           1436\n",
       "4     orange            941\n",
       "5     almond            887\n",
       "6      cocoa            629\n",
       "7     ginger            590\n",
       "8  raspberry            512\n",
       "9      apple            508"
      ]
     },
     "execution_count": 80,
     "metadata": {},
     "output_type": "execute_result"
    }
   ],
   "source": [
    "flavor_cdf.head(10)"
   ]
  },
  {
   "cell_type": "code",
   "execution_count": 21,
   "metadata": {},
   "outputs": [
    {
     "data": {
      "text/plain": [
       "(98, 2)"
      ]
     },
     "execution_count": 21,
     "metadata": {},
     "output_type": "execute_result"
    }
   ],
   "source": [
    "flavor_cdf.shape"
   ]
  },
  {
   "cell_type": "code",
   "execution_count": 52,
   "metadata": {},
   "outputs": [
    {
     "data": {
      "application/vnd.plotly.v1+json": {
       "config": {
        "linkText": "Export to plot.ly",
        "plotlyServerURL": "https://plot.ly",
        "showLink": false
       },
       "data": [
        {
         "type": "bar",
         "x": [
          "vanilla",
          "chocolate",
          "lemon",
          "cinnamon",
          "orange",
          "almond",
          "cocoa",
          "ginger",
          "raspberry",
          "apple",
          "strawberry",
          "honey",
          "nutmeg",
          "walnut",
          "pecan",
          "coconut",
          "clove",
          "rum",
          "lime",
          "cherry",
          "brandy",
          "mint",
          "apricot",
          "pear",
          "coffee",
          "raisin",
          "hazelnut",
          "blueberry",
          "peach",
          "banana",
          "cardamom",
          "cranberry",
          "allspice",
          "blackberry",
          "oat",
          "maple",
          "pineapple",
          "pumpkin",
          "peanut",
          "graham",
          "pistachio",
          "mascarpone",
          "mango",
          "plum",
          "rhubarb",
          "fig",
          "date",
          "grape",
          "pepper",
          "caramel"
         ],
         "y": [
          3689,
          1812,
          1628,
          1436,
          941,
          887,
          629,
          590,
          512,
          508,
          503,
          468,
          456,
          446,
          437,
          415,
          337,
          320,
          297,
          297,
          296,
          291,
          291,
          288,
          286,
          270,
          245,
          241,
          235,
          219,
          207,
          204,
          201,
          194,
          193,
          188,
          182,
          182,
          181,
          177,
          174,
          140,
          130,
          128,
          109,
          103,
          97,
          85,
          84,
          82
         ]
        }
       ],
       "layout": {
        "template": {
         "data": {
          "bar": [
           {
            "error_x": {
             "color": "#2a3f5f"
            },
            "error_y": {
             "color": "#2a3f5f"
            },
            "marker": {
             "line": {
              "color": "#E5ECF6",
              "width": 0.5
             }
            },
            "type": "bar"
           }
          ],
          "barpolar": [
           {
            "marker": {
             "line": {
              "color": "#E5ECF6",
              "width": 0.5
             }
            },
            "type": "barpolar"
           }
          ],
          "carpet": [
           {
            "aaxis": {
             "endlinecolor": "#2a3f5f",
             "gridcolor": "white",
             "linecolor": "white",
             "minorgridcolor": "white",
             "startlinecolor": "#2a3f5f"
            },
            "baxis": {
             "endlinecolor": "#2a3f5f",
             "gridcolor": "white",
             "linecolor": "white",
             "minorgridcolor": "white",
             "startlinecolor": "#2a3f5f"
            },
            "type": "carpet"
           }
          ],
          "choropleth": [
           {
            "colorbar": {
             "outlinewidth": 0,
             "ticks": ""
            },
            "type": "choropleth"
           }
          ],
          "contour": [
           {
            "colorbar": {
             "outlinewidth": 0,
             "ticks": ""
            },
            "colorscale": [
             [
              0,
              "#0d0887"
             ],
             [
              0.1111111111111111,
              "#46039f"
             ],
             [
              0.2222222222222222,
              "#7201a8"
             ],
             [
              0.3333333333333333,
              "#9c179e"
             ],
             [
              0.4444444444444444,
              "#bd3786"
             ],
             [
              0.5555555555555556,
              "#d8576b"
             ],
             [
              0.6666666666666666,
              "#ed7953"
             ],
             [
              0.7777777777777778,
              "#fb9f3a"
             ],
             [
              0.8888888888888888,
              "#fdca26"
             ],
             [
              1,
              "#f0f921"
             ]
            ],
            "type": "contour"
           }
          ],
          "contourcarpet": [
           {
            "colorbar": {
             "outlinewidth": 0,
             "ticks": ""
            },
            "type": "contourcarpet"
           }
          ],
          "heatmap": [
           {
            "colorbar": {
             "outlinewidth": 0,
             "ticks": ""
            },
            "colorscale": [
             [
              0,
              "#0d0887"
             ],
             [
              0.1111111111111111,
              "#46039f"
             ],
             [
              0.2222222222222222,
              "#7201a8"
             ],
             [
              0.3333333333333333,
              "#9c179e"
             ],
             [
              0.4444444444444444,
              "#bd3786"
             ],
             [
              0.5555555555555556,
              "#d8576b"
             ],
             [
              0.6666666666666666,
              "#ed7953"
             ],
             [
              0.7777777777777778,
              "#fb9f3a"
             ],
             [
              0.8888888888888888,
              "#fdca26"
             ],
             [
              1,
              "#f0f921"
             ]
            ],
            "type": "heatmap"
           }
          ],
          "heatmapgl": [
           {
            "colorbar": {
             "outlinewidth": 0,
             "ticks": ""
            },
            "colorscale": [
             [
              0,
              "#0d0887"
             ],
             [
              0.1111111111111111,
              "#46039f"
             ],
             [
              0.2222222222222222,
              "#7201a8"
             ],
             [
              0.3333333333333333,
              "#9c179e"
             ],
             [
              0.4444444444444444,
              "#bd3786"
             ],
             [
              0.5555555555555556,
              "#d8576b"
             ],
             [
              0.6666666666666666,
              "#ed7953"
             ],
             [
              0.7777777777777778,
              "#fb9f3a"
             ],
             [
              0.8888888888888888,
              "#fdca26"
             ],
             [
              1,
              "#f0f921"
             ]
            ],
            "type": "heatmapgl"
           }
          ],
          "histogram": [
           {
            "marker": {
             "colorbar": {
              "outlinewidth": 0,
              "ticks": ""
             }
            },
            "type": "histogram"
           }
          ],
          "histogram2d": [
           {
            "colorbar": {
             "outlinewidth": 0,
             "ticks": ""
            },
            "colorscale": [
             [
              0,
              "#0d0887"
             ],
             [
              0.1111111111111111,
              "#46039f"
             ],
             [
              0.2222222222222222,
              "#7201a8"
             ],
             [
              0.3333333333333333,
              "#9c179e"
             ],
             [
              0.4444444444444444,
              "#bd3786"
             ],
             [
              0.5555555555555556,
              "#d8576b"
             ],
             [
              0.6666666666666666,
              "#ed7953"
             ],
             [
              0.7777777777777778,
              "#fb9f3a"
             ],
             [
              0.8888888888888888,
              "#fdca26"
             ],
             [
              1,
              "#f0f921"
             ]
            ],
            "type": "histogram2d"
           }
          ],
          "histogram2dcontour": [
           {
            "colorbar": {
             "outlinewidth": 0,
             "ticks": ""
            },
            "colorscale": [
             [
              0,
              "#0d0887"
             ],
             [
              0.1111111111111111,
              "#46039f"
             ],
             [
              0.2222222222222222,
              "#7201a8"
             ],
             [
              0.3333333333333333,
              "#9c179e"
             ],
             [
              0.4444444444444444,
              "#bd3786"
             ],
             [
              0.5555555555555556,
              "#d8576b"
             ],
             [
              0.6666666666666666,
              "#ed7953"
             ],
             [
              0.7777777777777778,
              "#fb9f3a"
             ],
             [
              0.8888888888888888,
              "#fdca26"
             ],
             [
              1,
              "#f0f921"
             ]
            ],
            "type": "histogram2dcontour"
           }
          ],
          "mesh3d": [
           {
            "colorbar": {
             "outlinewidth": 0,
             "ticks": ""
            },
            "type": "mesh3d"
           }
          ],
          "parcoords": [
           {
            "line": {
             "colorbar": {
              "outlinewidth": 0,
              "ticks": ""
             }
            },
            "type": "parcoords"
           }
          ],
          "pie": [
           {
            "automargin": true,
            "type": "pie"
           }
          ],
          "scatter": [
           {
            "marker": {
             "colorbar": {
              "outlinewidth": 0,
              "ticks": ""
             }
            },
            "type": "scatter"
           }
          ],
          "scatter3d": [
           {
            "line": {
             "colorbar": {
              "outlinewidth": 0,
              "ticks": ""
             }
            },
            "marker": {
             "colorbar": {
              "outlinewidth": 0,
              "ticks": ""
             }
            },
            "type": "scatter3d"
           }
          ],
          "scattercarpet": [
           {
            "marker": {
             "colorbar": {
              "outlinewidth": 0,
              "ticks": ""
             }
            },
            "type": "scattercarpet"
           }
          ],
          "scattergeo": [
           {
            "marker": {
             "colorbar": {
              "outlinewidth": 0,
              "ticks": ""
             }
            },
            "type": "scattergeo"
           }
          ],
          "scattergl": [
           {
            "marker": {
             "colorbar": {
              "outlinewidth": 0,
              "ticks": ""
             }
            },
            "type": "scattergl"
           }
          ],
          "scattermapbox": [
           {
            "marker": {
             "colorbar": {
              "outlinewidth": 0,
              "ticks": ""
             }
            },
            "type": "scattermapbox"
           }
          ],
          "scatterpolar": [
           {
            "marker": {
             "colorbar": {
              "outlinewidth": 0,
              "ticks": ""
             }
            },
            "type": "scatterpolar"
           }
          ],
          "scatterpolargl": [
           {
            "marker": {
             "colorbar": {
              "outlinewidth": 0,
              "ticks": ""
             }
            },
            "type": "scatterpolargl"
           }
          ],
          "scatterternary": [
           {
            "marker": {
             "colorbar": {
              "outlinewidth": 0,
              "ticks": ""
             }
            },
            "type": "scatterternary"
           }
          ],
          "surface": [
           {
            "colorbar": {
             "outlinewidth": 0,
             "ticks": ""
            },
            "colorscale": [
             [
              0,
              "#0d0887"
             ],
             [
              0.1111111111111111,
              "#46039f"
             ],
             [
              0.2222222222222222,
              "#7201a8"
             ],
             [
              0.3333333333333333,
              "#9c179e"
             ],
             [
              0.4444444444444444,
              "#bd3786"
             ],
             [
              0.5555555555555556,
              "#d8576b"
             ],
             [
              0.6666666666666666,
              "#ed7953"
             ],
             [
              0.7777777777777778,
              "#fb9f3a"
             ],
             [
              0.8888888888888888,
              "#fdca26"
             ],
             [
              1,
              "#f0f921"
             ]
            ],
            "type": "surface"
           }
          ],
          "table": [
           {
            "cells": {
             "fill": {
              "color": "#EBF0F8"
             },
             "line": {
              "color": "white"
             }
            },
            "header": {
             "fill": {
              "color": "#C8D4E3"
             },
             "line": {
              "color": "white"
             }
            },
            "type": "table"
           }
          ]
         },
         "layout": {
          "annotationdefaults": {
           "arrowcolor": "#2a3f5f",
           "arrowhead": 0,
           "arrowwidth": 1
          },
          "coloraxis": {
           "colorbar": {
            "outlinewidth": 0,
            "ticks": ""
           }
          },
          "colorscale": {
           "diverging": [
            [
             0,
             "#8e0152"
            ],
            [
             0.1,
             "#c51b7d"
            ],
            [
             0.2,
             "#de77ae"
            ],
            [
             0.3,
             "#f1b6da"
            ],
            [
             0.4,
             "#fde0ef"
            ],
            [
             0.5,
             "#f7f7f7"
            ],
            [
             0.6,
             "#e6f5d0"
            ],
            [
             0.7,
             "#b8e186"
            ],
            [
             0.8,
             "#7fbc41"
            ],
            [
             0.9,
             "#4d9221"
            ],
            [
             1,
             "#276419"
            ]
           ],
           "sequential": [
            [
             0,
             "#0d0887"
            ],
            [
             0.1111111111111111,
             "#46039f"
            ],
            [
             0.2222222222222222,
             "#7201a8"
            ],
            [
             0.3333333333333333,
             "#9c179e"
            ],
            [
             0.4444444444444444,
             "#bd3786"
            ],
            [
             0.5555555555555556,
             "#d8576b"
            ],
            [
             0.6666666666666666,
             "#ed7953"
            ],
            [
             0.7777777777777778,
             "#fb9f3a"
            ],
            [
             0.8888888888888888,
             "#fdca26"
            ],
            [
             1,
             "#f0f921"
            ]
           ],
           "sequentialminus": [
            [
             0,
             "#0d0887"
            ],
            [
             0.1111111111111111,
             "#46039f"
            ],
            [
             0.2222222222222222,
             "#7201a8"
            ],
            [
             0.3333333333333333,
             "#9c179e"
            ],
            [
             0.4444444444444444,
             "#bd3786"
            ],
            [
             0.5555555555555556,
             "#d8576b"
            ],
            [
             0.6666666666666666,
             "#ed7953"
            ],
            [
             0.7777777777777778,
             "#fb9f3a"
            ],
            [
             0.8888888888888888,
             "#fdca26"
            ],
            [
             1,
             "#f0f921"
            ]
           ]
          },
          "colorway": [
           "#636efa",
           "#EF553B",
           "#00cc96",
           "#ab63fa",
           "#FFA15A",
           "#19d3f3",
           "#FF6692",
           "#B6E880",
           "#FF97FF",
           "#FECB52"
          ],
          "font": {
           "color": "#2a3f5f"
          },
          "geo": {
           "bgcolor": "white",
           "lakecolor": "white",
           "landcolor": "#E5ECF6",
           "showlakes": true,
           "showland": true,
           "subunitcolor": "white"
          },
          "hoverlabel": {
           "align": "left"
          },
          "hovermode": "closest",
          "mapbox": {
           "style": "light"
          },
          "paper_bgcolor": "white",
          "plot_bgcolor": "#E5ECF6",
          "polar": {
           "angularaxis": {
            "gridcolor": "white",
            "linecolor": "white",
            "ticks": ""
           },
           "bgcolor": "#E5ECF6",
           "radialaxis": {
            "gridcolor": "white",
            "linecolor": "white",
            "ticks": ""
           }
          },
          "scene": {
           "xaxis": {
            "backgroundcolor": "#E5ECF6",
            "gridcolor": "white",
            "gridwidth": 2,
            "linecolor": "white",
            "showbackground": true,
            "ticks": "",
            "zerolinecolor": "white"
           },
           "yaxis": {
            "backgroundcolor": "#E5ECF6",
            "gridcolor": "white",
            "gridwidth": 2,
            "linecolor": "white",
            "showbackground": true,
            "ticks": "",
            "zerolinecolor": "white"
           },
           "zaxis": {
            "backgroundcolor": "#E5ECF6",
            "gridcolor": "white",
            "gridwidth": 2,
            "linecolor": "white",
            "showbackground": true,
            "ticks": "",
            "zerolinecolor": "white"
           }
          },
          "shapedefaults": {
           "line": {
            "color": "#2a3f5f"
           }
          },
          "ternary": {
           "aaxis": {
            "gridcolor": "white",
            "linecolor": "white",
            "ticks": ""
           },
           "baxis": {
            "gridcolor": "white",
            "linecolor": "white",
            "ticks": ""
           },
           "bgcolor": "#E5ECF6",
           "caxis": {
            "gridcolor": "white",
            "linecolor": "white",
            "ticks": ""
           }
          },
          "title": {
           "x": 0.05
          },
          "xaxis": {
           "automargin": true,
           "gridcolor": "white",
           "linecolor": "white",
           "ticks": "",
           "title": {
            "standoff": 15
           },
           "zerolinecolor": "white",
           "zerolinewidth": 2
          },
          "yaxis": {
           "automargin": true,
           "gridcolor": "white",
           "linecolor": "white",
           "ticks": "",
           "title": {
            "standoff": 15
           },
           "zerolinecolor": "white",
           "zerolinewidth": 2
          }
         }
        }
       }
      },
      "text/html": [
       "<div>\n",
       "        \n",
       "        \n",
       "            <div id=\"d4f767cd-9d05-4921-8650-e1e28cf4813e\" class=\"plotly-graph-div\" style=\"height:525px; width:100%;\"></div>\n",
       "            <script type=\"text/javascript\">\n",
       "                require([\"plotly\"], function(Plotly) {\n",
       "                    window.PLOTLYENV=window.PLOTLYENV || {};\n",
       "                    \n",
       "                if (document.getElementById(\"d4f767cd-9d05-4921-8650-e1e28cf4813e\")) {\n",
       "                    Plotly.newPlot(\n",
       "                        'd4f767cd-9d05-4921-8650-e1e28cf4813e',\n",
       "                        [{\"type\": \"bar\", \"x\": [\"vanilla\", \"chocolate\", \"lemon\", \"cinnamon\", \"orange\", \"almond\", \"cocoa\", \"ginger\", \"raspberry\", \"apple\", \"strawberry\", \"honey\", \"nutmeg\", \"walnut\", \"pecan\", \"coconut\", \"clove\", \"rum\", \"lime\", \"cherry\", \"brandy\", \"mint\", \"apricot\", \"pear\", \"coffee\", \"raisin\", \"hazelnut\", \"blueberry\", \"peach\", \"banana\", \"cardamom\", \"cranberry\", \"allspice\", \"blackberry\", \"oat\", \"maple\", \"pineapple\", \"pumpkin\", \"peanut\", \"graham\", \"pistachio\", \"mascarpone\", \"mango\", \"plum\", \"rhubarb\", \"fig\", \"date\", \"grape\", \"pepper\", \"caramel\"], \"y\": [3689, 1812, 1628, 1436, 941, 887, 629, 590, 512, 508, 503, 468, 456, 446, 437, 415, 337, 320, 297, 297, 296, 291, 291, 288, 286, 270, 245, 241, 235, 219, 207, 204, 201, 194, 193, 188, 182, 182, 181, 177, 174, 140, 130, 128, 109, 103, 97, 85, 84, 82]}],\n",
       "                        {\"template\": {\"data\": {\"bar\": [{\"error_x\": {\"color\": \"#2a3f5f\"}, \"error_y\": {\"color\": \"#2a3f5f\"}, \"marker\": {\"line\": {\"color\": \"#E5ECF6\", \"width\": 0.5}}, \"type\": \"bar\"}], \"barpolar\": [{\"marker\": {\"line\": {\"color\": \"#E5ECF6\", \"width\": 0.5}}, \"type\": \"barpolar\"}], \"carpet\": [{\"aaxis\": {\"endlinecolor\": \"#2a3f5f\", \"gridcolor\": \"white\", \"linecolor\": \"white\", \"minorgridcolor\": \"white\", \"startlinecolor\": \"#2a3f5f\"}, \"baxis\": {\"endlinecolor\": \"#2a3f5f\", \"gridcolor\": \"white\", \"linecolor\": \"white\", \"minorgridcolor\": \"white\", \"startlinecolor\": \"#2a3f5f\"}, \"type\": \"carpet\"}], \"choropleth\": [{\"colorbar\": {\"outlinewidth\": 0, \"ticks\": \"\"}, \"type\": \"choropleth\"}], \"contour\": [{\"colorbar\": {\"outlinewidth\": 0, \"ticks\": \"\"}, \"colorscale\": [[0.0, \"#0d0887\"], [0.1111111111111111, \"#46039f\"], [0.2222222222222222, \"#7201a8\"], [0.3333333333333333, \"#9c179e\"], [0.4444444444444444, \"#bd3786\"], [0.5555555555555556, \"#d8576b\"], [0.6666666666666666, \"#ed7953\"], [0.7777777777777778, \"#fb9f3a\"], [0.8888888888888888, \"#fdca26\"], [1.0, \"#f0f921\"]], \"type\": \"contour\"}], \"contourcarpet\": [{\"colorbar\": {\"outlinewidth\": 0, \"ticks\": \"\"}, \"type\": \"contourcarpet\"}], \"heatmap\": [{\"colorbar\": {\"outlinewidth\": 0, \"ticks\": \"\"}, \"colorscale\": [[0.0, \"#0d0887\"], [0.1111111111111111, \"#46039f\"], [0.2222222222222222, \"#7201a8\"], [0.3333333333333333, \"#9c179e\"], [0.4444444444444444, \"#bd3786\"], [0.5555555555555556, \"#d8576b\"], [0.6666666666666666, \"#ed7953\"], [0.7777777777777778, \"#fb9f3a\"], [0.8888888888888888, \"#fdca26\"], [1.0, \"#f0f921\"]], \"type\": \"heatmap\"}], \"heatmapgl\": [{\"colorbar\": {\"outlinewidth\": 0, \"ticks\": \"\"}, \"colorscale\": [[0.0, \"#0d0887\"], [0.1111111111111111, \"#46039f\"], [0.2222222222222222, \"#7201a8\"], [0.3333333333333333, \"#9c179e\"], [0.4444444444444444, \"#bd3786\"], [0.5555555555555556, \"#d8576b\"], [0.6666666666666666, \"#ed7953\"], [0.7777777777777778, \"#fb9f3a\"], [0.8888888888888888, \"#fdca26\"], [1.0, \"#f0f921\"]], \"type\": \"heatmapgl\"}], \"histogram\": [{\"marker\": {\"colorbar\": {\"outlinewidth\": 0, \"ticks\": \"\"}}, \"type\": \"histogram\"}], \"histogram2d\": [{\"colorbar\": {\"outlinewidth\": 0, \"ticks\": \"\"}, \"colorscale\": [[0.0, \"#0d0887\"], [0.1111111111111111, \"#46039f\"], [0.2222222222222222, \"#7201a8\"], [0.3333333333333333, \"#9c179e\"], [0.4444444444444444, \"#bd3786\"], [0.5555555555555556, \"#d8576b\"], [0.6666666666666666, \"#ed7953\"], [0.7777777777777778, \"#fb9f3a\"], [0.8888888888888888, \"#fdca26\"], [1.0, \"#f0f921\"]], \"type\": \"histogram2d\"}], \"histogram2dcontour\": [{\"colorbar\": {\"outlinewidth\": 0, \"ticks\": \"\"}, \"colorscale\": [[0.0, \"#0d0887\"], [0.1111111111111111, \"#46039f\"], [0.2222222222222222, \"#7201a8\"], [0.3333333333333333, \"#9c179e\"], [0.4444444444444444, \"#bd3786\"], [0.5555555555555556, \"#d8576b\"], [0.6666666666666666, \"#ed7953\"], [0.7777777777777778, \"#fb9f3a\"], [0.8888888888888888, \"#fdca26\"], [1.0, \"#f0f921\"]], \"type\": \"histogram2dcontour\"}], \"mesh3d\": [{\"colorbar\": {\"outlinewidth\": 0, \"ticks\": \"\"}, \"type\": \"mesh3d\"}], \"parcoords\": [{\"line\": {\"colorbar\": {\"outlinewidth\": 0, \"ticks\": \"\"}}, \"type\": \"parcoords\"}], \"pie\": [{\"automargin\": true, \"type\": \"pie\"}], \"scatter\": [{\"marker\": {\"colorbar\": {\"outlinewidth\": 0, \"ticks\": \"\"}}, \"type\": \"scatter\"}], \"scatter3d\": [{\"line\": {\"colorbar\": {\"outlinewidth\": 0, \"ticks\": \"\"}}, \"marker\": {\"colorbar\": {\"outlinewidth\": 0, \"ticks\": \"\"}}, \"type\": \"scatter3d\"}], \"scattercarpet\": [{\"marker\": {\"colorbar\": {\"outlinewidth\": 0, \"ticks\": \"\"}}, \"type\": \"scattercarpet\"}], \"scattergeo\": [{\"marker\": {\"colorbar\": {\"outlinewidth\": 0, \"ticks\": \"\"}}, \"type\": \"scattergeo\"}], \"scattergl\": [{\"marker\": {\"colorbar\": {\"outlinewidth\": 0, \"ticks\": \"\"}}, \"type\": \"scattergl\"}], \"scattermapbox\": [{\"marker\": {\"colorbar\": {\"outlinewidth\": 0, \"ticks\": \"\"}}, \"type\": \"scattermapbox\"}], \"scatterpolar\": [{\"marker\": {\"colorbar\": {\"outlinewidth\": 0, \"ticks\": \"\"}}, \"type\": \"scatterpolar\"}], \"scatterpolargl\": [{\"marker\": {\"colorbar\": {\"outlinewidth\": 0, \"ticks\": \"\"}}, \"type\": \"scatterpolargl\"}], \"scatterternary\": [{\"marker\": {\"colorbar\": {\"outlinewidth\": 0, \"ticks\": \"\"}}, \"type\": \"scatterternary\"}], \"surface\": [{\"colorbar\": {\"outlinewidth\": 0, \"ticks\": \"\"}, \"colorscale\": [[0.0, \"#0d0887\"], [0.1111111111111111, \"#46039f\"], [0.2222222222222222, \"#7201a8\"], [0.3333333333333333, \"#9c179e\"], [0.4444444444444444, \"#bd3786\"], [0.5555555555555556, \"#d8576b\"], [0.6666666666666666, \"#ed7953\"], [0.7777777777777778, \"#fb9f3a\"], [0.8888888888888888, \"#fdca26\"], [1.0, \"#f0f921\"]], \"type\": \"surface\"}], \"table\": [{\"cells\": {\"fill\": {\"color\": \"#EBF0F8\"}, \"line\": {\"color\": \"white\"}}, \"header\": {\"fill\": {\"color\": \"#C8D4E3\"}, \"line\": {\"color\": \"white\"}}, \"type\": \"table\"}]}, \"layout\": {\"annotationdefaults\": {\"arrowcolor\": \"#2a3f5f\", \"arrowhead\": 0, \"arrowwidth\": 1}, \"coloraxis\": {\"colorbar\": {\"outlinewidth\": 0, \"ticks\": \"\"}}, \"colorscale\": {\"diverging\": [[0, \"#8e0152\"], [0.1, \"#c51b7d\"], [0.2, \"#de77ae\"], [0.3, \"#f1b6da\"], [0.4, \"#fde0ef\"], [0.5, \"#f7f7f7\"], [0.6, \"#e6f5d0\"], [0.7, \"#b8e186\"], [0.8, \"#7fbc41\"], [0.9, \"#4d9221\"], [1, \"#276419\"]], \"sequential\": [[0.0, \"#0d0887\"], [0.1111111111111111, \"#46039f\"], [0.2222222222222222, \"#7201a8\"], [0.3333333333333333, \"#9c179e\"], [0.4444444444444444, \"#bd3786\"], [0.5555555555555556, \"#d8576b\"], [0.6666666666666666, \"#ed7953\"], [0.7777777777777778, \"#fb9f3a\"], [0.8888888888888888, \"#fdca26\"], [1.0, \"#f0f921\"]], \"sequentialminus\": [[0.0, \"#0d0887\"], [0.1111111111111111, \"#46039f\"], [0.2222222222222222, \"#7201a8\"], [0.3333333333333333, \"#9c179e\"], [0.4444444444444444, \"#bd3786\"], [0.5555555555555556, \"#d8576b\"], [0.6666666666666666, \"#ed7953\"], [0.7777777777777778, \"#fb9f3a\"], [0.8888888888888888, \"#fdca26\"], [1.0, \"#f0f921\"]]}, \"colorway\": [\"#636efa\", \"#EF553B\", \"#00cc96\", \"#ab63fa\", \"#FFA15A\", \"#19d3f3\", \"#FF6692\", \"#B6E880\", \"#FF97FF\", \"#FECB52\"], \"font\": {\"color\": \"#2a3f5f\"}, \"geo\": {\"bgcolor\": \"white\", \"lakecolor\": \"white\", \"landcolor\": \"#E5ECF6\", \"showlakes\": true, \"showland\": true, \"subunitcolor\": \"white\"}, \"hoverlabel\": {\"align\": \"left\"}, \"hovermode\": \"closest\", \"mapbox\": {\"style\": \"light\"}, \"paper_bgcolor\": \"white\", \"plot_bgcolor\": \"#E5ECF6\", \"polar\": {\"angularaxis\": {\"gridcolor\": \"white\", \"linecolor\": \"white\", \"ticks\": \"\"}, \"bgcolor\": \"#E5ECF6\", \"radialaxis\": {\"gridcolor\": \"white\", \"linecolor\": \"white\", \"ticks\": \"\"}}, \"scene\": {\"xaxis\": {\"backgroundcolor\": \"#E5ECF6\", \"gridcolor\": \"white\", \"gridwidth\": 2, \"linecolor\": \"white\", \"showbackground\": true, \"ticks\": \"\", \"zerolinecolor\": \"white\"}, \"yaxis\": {\"backgroundcolor\": \"#E5ECF6\", \"gridcolor\": \"white\", \"gridwidth\": 2, \"linecolor\": \"white\", \"showbackground\": true, \"ticks\": \"\", \"zerolinecolor\": \"white\"}, \"zaxis\": {\"backgroundcolor\": \"#E5ECF6\", \"gridcolor\": \"white\", \"gridwidth\": 2, \"linecolor\": \"white\", \"showbackground\": true, \"ticks\": \"\", \"zerolinecolor\": \"white\"}}, \"shapedefaults\": {\"line\": {\"color\": \"#2a3f5f\"}}, \"ternary\": {\"aaxis\": {\"gridcolor\": \"white\", \"linecolor\": \"white\", \"ticks\": \"\"}, \"baxis\": {\"gridcolor\": \"white\", \"linecolor\": \"white\", \"ticks\": \"\"}, \"bgcolor\": \"#E5ECF6\", \"caxis\": {\"gridcolor\": \"white\", \"linecolor\": \"white\", \"ticks\": \"\"}}, \"title\": {\"x\": 0.05}, \"xaxis\": {\"automargin\": true, \"gridcolor\": \"white\", \"linecolor\": \"white\", \"ticks\": \"\", \"title\": {\"standoff\": 15}, \"zerolinecolor\": \"white\", \"zerolinewidth\": 2}, \"yaxis\": {\"automargin\": true, \"gridcolor\": \"white\", \"linecolor\": \"white\", \"ticks\": \"\", \"title\": {\"standoff\": 15}, \"zerolinecolor\": \"white\", \"zerolinewidth\": 2}}}},\n",
       "                        {\"responsive\": true}\n",
       "                    ).then(function(){\n",
       "                            \n",
       "var gd = document.getElementById('d4f767cd-9d05-4921-8650-e1e28cf4813e');\n",
       "var x = new MutationObserver(function (mutations, observer) {{\n",
       "        var display = window.getComputedStyle(gd).display;\n",
       "        if (!display || display === 'none') {{\n",
       "            console.log([gd, 'removed!']);\n",
       "            Plotly.purge(gd);\n",
       "            observer.disconnect();\n",
       "        }}\n",
       "}});\n",
       "\n",
       "// Listen for the removal of the full notebook cells\n",
       "var notebookContainer = gd.closest('#notebook-container');\n",
       "if (notebookContainer) {{\n",
       "    x.observe(notebookContainer, {childList: true});\n",
       "}}\n",
       "\n",
       "// Listen for the clearing of the current output cell\n",
       "var outputEl = gd.closest('.output');\n",
       "if (outputEl) {{\n",
       "    x.observe(outputEl, {childList: true});\n",
       "}}\n",
       "\n",
       "                        })\n",
       "                };\n",
       "                });\n",
       "            </script>\n",
       "        </div>"
      ]
     },
     "metadata": {},
     "output_type": "display_data"
    }
   ],
   "source": [
    "fig = go.Figure([go.Bar(x=flavor_cdf.head(50).flavor, y=flavor_cdf.head(50).recipe_counts)])\n",
    "py.offline.iplot(fig)"
   ]
  },
  {
   "cell_type": "markdown",
   "metadata": {},
   "source": [
    "Save only top 50 flavors"
   ]
  },
  {
   "cell_type": "code",
   "execution_count": 23,
   "metadata": {},
   "outputs": [],
   "source": [
    "top50_flavors = list(flavor_cdf.head(50).flavor.values)\n",
    "top20_flavors = list(flavor_cdf.head(20).flavor.values)"
   ]
  },
  {
   "cell_type": "code",
   "execution_count": 59,
   "metadata": {},
   "outputs": [
    {
     "data": {
      "text/plain": [
       "['vanilla',\n",
       " 'chocolate',\n",
       " 'lemon',\n",
       " 'cinnamon',\n",
       " 'orange',\n",
       " 'almond',\n",
       " 'cocoa',\n",
       " 'ginger',\n",
       " 'raspberry',\n",
       " 'apple',\n",
       " 'strawberry',\n",
       " 'honey',\n",
       " 'nutmeg',\n",
       " 'walnut',\n",
       " 'pecan',\n",
       " 'coconut',\n",
       " 'clove',\n",
       " 'rum',\n",
       " 'lime',\n",
       " 'cherry']"
      ]
     },
     "execution_count": 59,
     "metadata": {},
     "output_type": "execute_result"
    }
   ],
   "source": [
    "top20_flavors = list(flavor_cdf.head(20).flavor.values)\n",
    "top20_flavors"
   ]
  },
  {
   "cell_type": "markdown",
   "metadata": {},
   "source": [
    "## Chord Diagram"
   ]
  },
  {
   "cell_type": "markdown",
   "metadata": {},
   "source": [
    "Take the original dataframe and calcualte co occurence matrix"
   ]
  },
  {
   "cell_type": "code",
   "execution_count": 24,
   "metadata": {},
   "outputs": [
    {
     "data": {
      "text/html": [
       "<div>\n",
       "<style scoped>\n",
       "    .dataframe tbody tr th:only-of-type {\n",
       "        vertical-align: middle;\n",
       "    }\n",
       "\n",
       "    .dataframe tbody tr th {\n",
       "        vertical-align: top;\n",
       "    }\n",
       "\n",
       "    .dataframe thead th {\n",
       "        text-align: right;\n",
       "    }\n",
       "</style>\n",
       "<table border=\"1\" class=\"dataframe\">\n",
       "  <thead>\n",
       "    <tr style=\"text-align: right;\">\n",
       "      <th></th>\n",
       "      <th>recipe_name</th>\n",
       "      <th>flavor_list</th>\n",
       "    </tr>\n",
       "  </thead>\n",
       "  <tbody>\n",
       "    <tr>\n",
       "      <th>0</th>\n",
       "      <td>Big Apple Crumble Cupcakes</td>\n",
       "      <td>[apple, cinnamon, vanilla]</td>\n",
       "    </tr>\n",
       "    <tr>\n",
       "      <th>1</th>\n",
       "      <td>Bacon-Latticed Apple Pie</td>\n",
       "      <td>[apple, cinnamon, lemon, nutmeg]</td>\n",
       "    </tr>\n",
       "    <tr>\n",
       "      <th>2</th>\n",
       "      <td>Lemon and Fig Cupcakes</td>\n",
       "      <td>[fig, lemon, vanilla]</td>\n",
       "    </tr>\n",
       "    <tr>\n",
       "      <th>3</th>\n",
       "      <td>Toasted Coconut Chia Pudding</td>\n",
       "      <td>[almond, coconut]</td>\n",
       "    </tr>\n",
       "    <tr>\n",
       "      <th>4</th>\n",
       "      <td>Coconut-Strawberry Ice Cream Pie</td>\n",
       "      <td>[coconut, graham, lemon, strawberry]</td>\n",
       "    </tr>\n",
       "  </tbody>\n",
       "</table>\n",
       "</div>"
      ],
      "text/plain": [
       "                         recipe_name                           flavor_list\n",
       "0        Big Apple Crumble Cupcakes             [apple, cinnamon, vanilla]\n",
       "1          Bacon-Latticed Apple Pie       [apple, cinnamon, lemon, nutmeg]\n",
       "2            Lemon and Fig Cupcakes                  [fig, lemon, vanilla]\n",
       "3      Toasted Coconut Chia Pudding                      [almond, coconut]\n",
       "4  Coconut-Strawberry Ice Cream Pie   [coconut, graham, lemon, strawberry]"
      ]
     },
     "execution_count": 24,
     "metadata": {},
     "output_type": "execute_result"
    }
   ],
   "source": [
    "adf = df[['recipe_name', 'flavor_list']]\n",
    "adf.head()"
   ]
  },
  {
   "cell_type": "markdown",
   "metadata": {},
   "source": [
    "Lets focus on the top 50 recipes"
   ]
  },
  {
   "cell_type": "code",
   "execution_count": 60,
   "metadata": {},
   "outputs": [],
   "source": [
    "f_list = adf.flavor_list"
   ]
  },
  {
   "cell_type": "code",
   "execution_count": 73,
   "metadata": {},
   "outputs": [
    {
     "data": {
      "text/plain": [
       "['apple', 'cinnamon', 'vanilla']"
      ]
     },
     "execution_count": 73,
     "metadata": {},
     "output_type": "execute_result"
    }
   ],
   "source": [
    "f_list.iloc[0]"
   ]
  },
  {
   "cell_type": "code",
   "execution_count": 75,
   "metadata": {},
   "outputs": [
    {
     "data": {
      "text/plain": [
       "array([list(['apple', 'cinnamon', 'vanilla']),\n",
       "       list(['apple', 'cinnamon', 'lemon', 'nutmeg']),\n",
       "       list(['fig', 'lemon', 'vanilla']), ...,\n",
       "       list(['blackberry', 'blueberry', 'lemon', 'nutmeg', 'oat', 'orange', 'raspberry']),\n",
       "       list(['almond', 'apricot', 'lavender', 'vanilla']),\n",
       "       list(['almond', 'graham', 'vanilla'])], dtype=object)"
      ]
     },
     "execution_count": 75,
     "metadata": {},
     "output_type": "execute_result"
    }
   ],
   "source": [
    "adf.flavor_list.values"
   ]
  },
  {
   "cell_type": "code",
   "execution_count": 27,
   "metadata": {},
   "outputs": [
    {
     "data": {
      "text/plain": [
       "[('apple', 'cinnamon'), ('apple', 'vanilla'), ('cinnamon', 'vanilla')]"
      ]
     },
     "execution_count": 27,
     "metadata": {},
     "output_type": "execute_result"
    }
   ],
   "source": [
    "list(itertools.combinations(f_list, 2))"
   ]
  },
  {
   "cell_type": "code",
   "execution_count": 28,
   "metadata": {},
   "outputs": [],
   "source": [
    "#all flavor pairs grouped by 2\n",
    "flavor_pairs_list = []\n",
    "for f_list in adf.flavor_list.values:\n",
    "    flavor_pairs = list(itertools.combinations(f_list, 2))\n",
    "    flavor_pairs_list = flavor_pairs_list + flavor_pairs"
   ]
  },
  {
   "cell_type": "code",
   "execution_count": 29,
   "metadata": {},
   "outputs": [
    {
     "name": "stdout",
     "output_type": "stream",
     "text": [
      "(35627, 2)\n"
     ]
    }
   ],
   "source": [
    "#create dataframe out of flavor pairs list\n",
    "flavor_pdf = pd.DataFrame(flavor_pairs_list, columns=['flavor1', 'flavor2'])\n",
    "print(flavor_pdf.shape)"
   ]
  },
  {
   "cell_type": "code",
   "execution_count": 77,
   "metadata": {},
   "outputs": [
    {
     "data": {
      "text/html": [
       "<div>\n",
       "<style scoped>\n",
       "    .dataframe tbody tr th:only-of-type {\n",
       "        vertical-align: middle;\n",
       "    }\n",
       "\n",
       "    .dataframe tbody tr th {\n",
       "        vertical-align: top;\n",
       "    }\n",
       "\n",
       "    .dataframe thead th {\n",
       "        text-align: right;\n",
       "    }\n",
       "</style>\n",
       "<table border=\"1\" class=\"dataframe\">\n",
       "  <thead>\n",
       "    <tr style=\"text-align: right;\">\n",
       "      <th></th>\n",
       "      <th>flavor1</th>\n",
       "      <th>flavor2</th>\n",
       "    </tr>\n",
       "  </thead>\n",
       "  <tbody>\n",
       "    <tr>\n",
       "      <th>0</th>\n",
       "      <td>apple</td>\n",
       "      <td>cinnamon</td>\n",
       "    </tr>\n",
       "    <tr>\n",
       "      <th>1</th>\n",
       "      <td>apple</td>\n",
       "      <td>vanilla</td>\n",
       "    </tr>\n",
       "    <tr>\n",
       "      <th>2</th>\n",
       "      <td>cinnamon</td>\n",
       "      <td>vanilla</td>\n",
       "    </tr>\n",
       "    <tr>\n",
       "      <th>3</th>\n",
       "      <td>apple</td>\n",
       "      <td>cinnamon</td>\n",
       "    </tr>\n",
       "    <tr>\n",
       "      <th>4</th>\n",
       "      <td>apple</td>\n",
       "      <td>lemon</td>\n",
       "    </tr>\n",
       "    <tr>\n",
       "      <th>5</th>\n",
       "      <td>apple</td>\n",
       "      <td>nutmeg</td>\n",
       "    </tr>\n",
       "    <tr>\n",
       "      <th>6</th>\n",
       "      <td>cinnamon</td>\n",
       "      <td>lemon</td>\n",
       "    </tr>\n",
       "    <tr>\n",
       "      <th>7</th>\n",
       "      <td>cinnamon</td>\n",
       "      <td>nutmeg</td>\n",
       "    </tr>\n",
       "    <tr>\n",
       "      <th>8</th>\n",
       "      <td>lemon</td>\n",
       "      <td>nutmeg</td>\n",
       "    </tr>\n",
       "    <tr>\n",
       "      <th>9</th>\n",
       "      <td>fig</td>\n",
       "      <td>lemon</td>\n",
       "    </tr>\n",
       "  </tbody>\n",
       "</table>\n",
       "</div>"
      ],
      "text/plain": [
       "    flavor1   flavor2\n",
       "0     apple  cinnamon\n",
       "1     apple   vanilla\n",
       "2  cinnamon   vanilla\n",
       "3     apple  cinnamon\n",
       "4     apple     lemon\n",
       "5     apple    nutmeg\n",
       "6  cinnamon     lemon\n",
       "7  cinnamon    nutmeg\n",
       "8     lemon    nutmeg\n",
       "9       fig     lemon"
      ]
     },
     "execution_count": 77,
     "metadata": {},
     "output_type": "execute_result"
    }
   ],
   "source": [
    "flavor_pdf.head(10)"
   ]
  },
  {
   "cell_type": "code",
   "execution_count": 31,
   "metadata": {},
   "outputs": [
    {
     "name": "stdout",
     "output_type": "stream",
     "text": [
      "(17021, 2)\n"
     ]
    }
   ],
   "source": [
    "#top 20 or 50 flavor pairs -- is flavor 1 in top 50 and is flavor 2 in top 50\n",
    "flavor_t50_pdf = flavor_pdf[(flavor_pdf.flavor1.isin(top50_flavors)) & (flavor_pdf.flavor2.isin(top50_flavors))]\n",
    "flavor_t20_pdf = flavor_pdf[(flavor_pdf.flavor1.isin(top20_flavors)) & (flavor_pdf.flavor2.isin(top20_flavors))]\n",
    "print(flavor_t20_pdf.shape)"
   ]
  },
  {
   "cell_type": "code",
   "execution_count": 79,
   "metadata": {},
   "outputs": [
    {
     "data": {
      "text/html": [
       "<div>\n",
       "<style scoped>\n",
       "    .dataframe tbody tr th:only-of-type {\n",
       "        vertical-align: middle;\n",
       "    }\n",
       "\n",
       "    .dataframe tbody tr th {\n",
       "        vertical-align: top;\n",
       "    }\n",
       "\n",
       "    .dataframe thead th {\n",
       "        text-align: right;\n",
       "    }\n",
       "</style>\n",
       "<table border=\"1\" class=\"dataframe\">\n",
       "  <thead>\n",
       "    <tr style=\"text-align: right;\">\n",
       "      <th></th>\n",
       "      <th>flavor1</th>\n",
       "      <th>flavor2</th>\n",
       "    </tr>\n",
       "  </thead>\n",
       "  <tbody>\n",
       "    <tr>\n",
       "      <th>0</th>\n",
       "      <td>apple</td>\n",
       "      <td>cinnamon</td>\n",
       "    </tr>\n",
       "    <tr>\n",
       "      <th>1</th>\n",
       "      <td>apple</td>\n",
       "      <td>vanilla</td>\n",
       "    </tr>\n",
       "    <tr>\n",
       "      <th>2</th>\n",
       "      <td>cinnamon</td>\n",
       "      <td>vanilla</td>\n",
       "    </tr>\n",
       "    <tr>\n",
       "      <th>3</th>\n",
       "      <td>apple</td>\n",
       "      <td>cinnamon</td>\n",
       "    </tr>\n",
       "    <tr>\n",
       "      <th>4</th>\n",
       "      <td>apple</td>\n",
       "      <td>lemon</td>\n",
       "    </tr>\n",
       "    <tr>\n",
       "      <th>5</th>\n",
       "      <td>apple</td>\n",
       "      <td>nutmeg</td>\n",
       "    </tr>\n",
       "    <tr>\n",
       "      <th>6</th>\n",
       "      <td>cinnamon</td>\n",
       "      <td>lemon</td>\n",
       "    </tr>\n",
       "    <tr>\n",
       "      <th>7</th>\n",
       "      <td>cinnamon</td>\n",
       "      <td>nutmeg</td>\n",
       "    </tr>\n",
       "    <tr>\n",
       "      <th>8</th>\n",
       "      <td>lemon</td>\n",
       "      <td>nutmeg</td>\n",
       "    </tr>\n",
       "    <tr>\n",
       "      <th>11</th>\n",
       "      <td>lemon</td>\n",
       "      <td>vanilla</td>\n",
       "    </tr>\n",
       "  </tbody>\n",
       "</table>\n",
       "</div>"
      ],
      "text/plain": [
       "     flavor1   flavor2\n",
       "0      apple  cinnamon\n",
       "1      apple   vanilla\n",
       "2   cinnamon   vanilla\n",
       "3      apple  cinnamon\n",
       "4      apple     lemon\n",
       "5      apple    nutmeg\n",
       "6   cinnamon     lemon\n",
       "7   cinnamon    nutmeg\n",
       "8      lemon    nutmeg\n",
       "11     lemon   vanilla"
      ]
     },
     "execution_count": 79,
     "metadata": {},
     "output_type": "execute_result"
    }
   ],
   "source": [
    "flavor_t20_pdf.head(10)"
   ]
  },
  {
   "cell_type": "code",
   "execution_count": 83,
   "metadata": {},
   "outputs": [],
   "source": [
    "data = list(itertools.chain.from_iterable((i, i[::-1]) for i in flavor_t20_pdf.values))"
   ]
  },
  {
   "cell_type": "code",
   "execution_count": 34,
   "metadata": {},
   "outputs": [],
   "source": [
    "matrix = pd.pivot_table(\n",
    "    pd.DataFrame(data), index=0, columns=1, aggfunc=\"size\", fill_value=0\n",
    ").values.tolist()"
   ]
  },
  {
   "cell_type": "code",
   "execution_count": 35,
   "metadata": {},
   "outputs": [],
   "source": [
    "mdf = pd.DataFrame(matrix)"
   ]
  },
  {
   "cell_type": "code",
   "execution_count": 36,
   "metadata": {},
   "outputs": [
    {
     "data": {
      "text/html": [
       "<div>\n",
       "<style scoped>\n",
       "    .dataframe tbody tr th:only-of-type {\n",
       "        vertical-align: middle;\n",
       "    }\n",
       "\n",
       "    .dataframe tbody tr th {\n",
       "        vertical-align: top;\n",
       "    }\n",
       "\n",
       "    .dataframe thead th {\n",
       "        text-align: right;\n",
       "    }\n",
       "</style>\n",
       "<table border=\"1\" class=\"dataframe\">\n",
       "  <thead>\n",
       "    <tr style=\"text-align: right;\">\n",
       "      <th></th>\n",
       "      <th>0</th>\n",
       "      <th>1</th>\n",
       "      <th>2</th>\n",
       "      <th>3</th>\n",
       "      <th>4</th>\n",
       "      <th>5</th>\n",
       "      <th>6</th>\n",
       "      <th>7</th>\n",
       "      <th>8</th>\n",
       "      <th>9</th>\n",
       "      <th>10</th>\n",
       "      <th>11</th>\n",
       "      <th>12</th>\n",
       "      <th>13</th>\n",
       "      <th>14</th>\n",
       "      <th>15</th>\n",
       "      <th>16</th>\n",
       "      <th>17</th>\n",
       "      <th>18</th>\n",
       "      <th>19</th>\n",
       "    </tr>\n",
       "  </thead>\n",
       "  <tbody>\n",
       "    <tr>\n",
       "      <th>0</th>\n",
       "      <td>0</td>\n",
       "      <td>41</td>\n",
       "      <td>91</td>\n",
       "      <td>235</td>\n",
       "      <td>166</td>\n",
       "      <td>33</td>\n",
       "      <td>58</td>\n",
       "      <td>56</td>\n",
       "      <td>50</td>\n",
       "      <td>97</td>\n",
       "      <td>192</td>\n",
       "      <td>20</td>\n",
       "      <td>43</td>\n",
       "      <td>135</td>\n",
       "      <td>21</td>\n",
       "      <td>72</td>\n",
       "      <td>26</td>\n",
       "      <td>45</td>\n",
       "      <td>435</td>\n",
       "      <td>37</td>\n",
       "    </tr>\n",
       "    <tr>\n",
       "      <th>1</th>\n",
       "      <td>41</td>\n",
       "      <td>0</td>\n",
       "      <td>21</td>\n",
       "      <td>10</td>\n",
       "      <td>263</td>\n",
       "      <td>53</td>\n",
       "      <td>9</td>\n",
       "      <td>9</td>\n",
       "      <td>56</td>\n",
       "      <td>33</td>\n",
       "      <td>182</td>\n",
       "      <td>3</td>\n",
       "      <td>73</td>\n",
       "      <td>50</td>\n",
       "      <td>31</td>\n",
       "      <td>10</td>\n",
       "      <td>24</td>\n",
       "      <td>5</td>\n",
       "      <td>242</td>\n",
       "      <td>56</td>\n",
       "    </tr>\n",
       "    <tr>\n",
       "      <th>2</th>\n",
       "      <td>91</td>\n",
       "      <td>21</td>\n",
       "      <td>0</td>\n",
       "      <td>91</td>\n",
       "      <td>69</td>\n",
       "      <td>17</td>\n",
       "      <td>24</td>\n",
       "      <td>10</td>\n",
       "      <td>16</td>\n",
       "      <td>21</td>\n",
       "      <td>70</td>\n",
       "      <td>6</td>\n",
       "      <td>22</td>\n",
       "      <td>47</td>\n",
       "      <td>21</td>\n",
       "      <td>9</td>\n",
       "      <td>8</td>\n",
       "      <td>3</td>\n",
       "      <td>169</td>\n",
       "      <td>19</td>\n",
       "    </tr>\n",
       "    <tr>\n",
       "      <th>3</th>\n",
       "      <td>235</td>\n",
       "      <td>10</td>\n",
       "      <td>91</td>\n",
       "      <td>0</td>\n",
       "      <td>177</td>\n",
       "      <td>30</td>\n",
       "      <td>438</td>\n",
       "      <td>104</td>\n",
       "      <td>60</td>\n",
       "      <td>64</td>\n",
       "      <td>101</td>\n",
       "      <td>20</td>\n",
       "      <td>46</td>\n",
       "      <td>162</td>\n",
       "      <td>131</td>\n",
       "      <td>111</td>\n",
       "      <td>71</td>\n",
       "      <td>68</td>\n",
       "      <td>1021</td>\n",
       "      <td>125</td>\n",
       "    </tr>\n",
       "    <tr>\n",
       "      <th>4</th>\n",
       "      <td>166</td>\n",
       "      <td>263</td>\n",
       "      <td>69</td>\n",
       "      <td>177</td>\n",
       "      <td>0</td>\n",
       "      <td>287</td>\n",
       "      <td>56</td>\n",
       "      <td>40</td>\n",
       "      <td>335</td>\n",
       "      <td>122</td>\n",
       "      <td>360</td>\n",
       "      <td>11</td>\n",
       "      <td>326</td>\n",
       "      <td>236</td>\n",
       "      <td>132</td>\n",
       "      <td>36</td>\n",
       "      <td>75</td>\n",
       "      <td>35</td>\n",
       "      <td>761</td>\n",
       "      <td>171</td>\n",
       "    </tr>\n",
       "    <tr>\n",
       "      <th>5</th>\n",
       "      <td>33</td>\n",
       "      <td>53</td>\n",
       "      <td>17</td>\n",
       "      <td>30</td>\n",
       "      <td>287</td>\n",
       "      <td>0</td>\n",
       "      <td>17</td>\n",
       "      <td>5</td>\n",
       "      <td>150</td>\n",
       "      <td>40</td>\n",
       "      <td>89</td>\n",
       "      <td>4</td>\n",
       "      <td>108</td>\n",
       "      <td>80</td>\n",
       "      <td>23</td>\n",
       "      <td>5</td>\n",
       "      <td>20</td>\n",
       "      <td>10</td>\n",
       "      <td>142</td>\n",
       "      <td>39</td>\n",
       "    </tr>\n",
       "    <tr>\n",
       "      <th>6</th>\n",
       "      <td>58</td>\n",
       "      <td>9</td>\n",
       "      <td>24</td>\n",
       "      <td>438</td>\n",
       "      <td>56</td>\n",
       "      <td>17</td>\n",
       "      <td>0</td>\n",
       "      <td>29</td>\n",
       "      <td>21</td>\n",
       "      <td>23</td>\n",
       "      <td>26</td>\n",
       "      <td>1</td>\n",
       "      <td>8</td>\n",
       "      <td>56</td>\n",
       "      <td>39</td>\n",
       "      <td>30</td>\n",
       "      <td>22</td>\n",
       "      <td>15</td>\n",
       "      <td>412</td>\n",
       "      <td>39</td>\n",
       "    </tr>\n",
       "    <tr>\n",
       "      <th>7</th>\n",
       "      <td>56</td>\n",
       "      <td>9</td>\n",
       "      <td>10</td>\n",
       "      <td>104</td>\n",
       "      <td>40</td>\n",
       "      <td>5</td>\n",
       "      <td>29</td>\n",
       "      <td>0</td>\n",
       "      <td>29</td>\n",
       "      <td>19</td>\n",
       "      <td>52</td>\n",
       "      <td>49</td>\n",
       "      <td>16</td>\n",
       "      <td>34</td>\n",
       "      <td>24</td>\n",
       "      <td>14</td>\n",
       "      <td>53</td>\n",
       "      <td>18</td>\n",
       "      <td>224</td>\n",
       "      <td>8</td>\n",
       "    </tr>\n",
       "    <tr>\n",
       "      <th>8</th>\n",
       "      <td>50</td>\n",
       "      <td>56</td>\n",
       "      <td>16</td>\n",
       "      <td>60</td>\n",
       "      <td>335</td>\n",
       "      <td>150</td>\n",
       "      <td>21</td>\n",
       "      <td>29</td>\n",
       "      <td>0</td>\n",
       "      <td>40</td>\n",
       "      <td>129</td>\n",
       "      <td>29</td>\n",
       "      <td>125</td>\n",
       "      <td>85</td>\n",
       "      <td>45</td>\n",
       "      <td>21</td>\n",
       "      <td>28</td>\n",
       "      <td>14</td>\n",
       "      <td>253</td>\n",
       "      <td>33</td>\n",
       "    </tr>\n",
       "    <tr>\n",
       "      <th>9</th>\n",
       "      <td>97</td>\n",
       "      <td>33</td>\n",
       "      <td>21</td>\n",
       "      <td>64</td>\n",
       "      <td>122</td>\n",
       "      <td>40</td>\n",
       "      <td>23</td>\n",
       "      <td>19</td>\n",
       "      <td>40</td>\n",
       "      <td>0</td>\n",
       "      <td>122</td>\n",
       "      <td>15</td>\n",
       "      <td>38</td>\n",
       "      <td>117</td>\n",
       "      <td>30</td>\n",
       "      <td>20</td>\n",
       "      <td>9</td>\n",
       "      <td>30</td>\n",
       "      <td>182</td>\n",
       "      <td>56</td>\n",
       "    </tr>\n",
       "    <tr>\n",
       "      <th>10</th>\n",
       "      <td>192</td>\n",
       "      <td>182</td>\n",
       "      <td>70</td>\n",
       "      <td>101</td>\n",
       "      <td>360</td>\n",
       "      <td>89</td>\n",
       "      <td>26</td>\n",
       "      <td>52</td>\n",
       "      <td>129</td>\n",
       "      <td>122</td>\n",
       "      <td>0</td>\n",
       "      <td>31</td>\n",
       "      <td>130</td>\n",
       "      <td>205</td>\n",
       "      <td>55</td>\n",
       "      <td>151</td>\n",
       "      <td>47</td>\n",
       "      <td>162</td>\n",
       "      <td>698</td>\n",
       "      <td>84</td>\n",
       "    </tr>\n",
       "    <tr>\n",
       "      <th>11</th>\n",
       "      <td>20</td>\n",
       "      <td>3</td>\n",
       "      <td>6</td>\n",
       "      <td>20</td>\n",
       "      <td>11</td>\n",
       "      <td>4</td>\n",
       "      <td>1</td>\n",
       "      <td>49</td>\n",
       "      <td>29</td>\n",
       "      <td>15</td>\n",
       "      <td>31</td>\n",
       "      <td>0</td>\n",
       "      <td>5</td>\n",
       "      <td>18</td>\n",
       "      <td>5</td>\n",
       "      <td>15</td>\n",
       "      <td>27</td>\n",
       "      <td>22</td>\n",
       "      <td>74</td>\n",
       "      <td>4</td>\n",
       "    </tr>\n",
       "    <tr>\n",
       "      <th>12</th>\n",
       "      <td>43</td>\n",
       "      <td>73</td>\n",
       "      <td>22</td>\n",
       "      <td>46</td>\n",
       "      <td>326</td>\n",
       "      <td>108</td>\n",
       "      <td>8</td>\n",
       "      <td>16</td>\n",
       "      <td>125</td>\n",
       "      <td>38</td>\n",
       "      <td>130</td>\n",
       "      <td>5</td>\n",
       "      <td>0</td>\n",
       "      <td>66</td>\n",
       "      <td>56</td>\n",
       "      <td>13</td>\n",
       "      <td>41</td>\n",
       "      <td>10</td>\n",
       "      <td>265</td>\n",
       "      <td>48</td>\n",
       "    </tr>\n",
       "    <tr>\n",
       "      <th>13</th>\n",
       "      <td>135</td>\n",
       "      <td>50</td>\n",
       "      <td>47</td>\n",
       "      <td>162</td>\n",
       "      <td>236</td>\n",
       "      <td>80</td>\n",
       "      <td>56</td>\n",
       "      <td>34</td>\n",
       "      <td>85</td>\n",
       "      <td>117</td>\n",
       "      <td>205</td>\n",
       "      <td>18</td>\n",
       "      <td>66</td>\n",
       "      <td>0</td>\n",
       "      <td>33</td>\n",
       "      <td>53</td>\n",
       "      <td>35</td>\n",
       "      <td>88</td>\n",
       "      <td>397</td>\n",
       "      <td>61</td>\n",
       "    </tr>\n",
       "    <tr>\n",
       "      <th>14</th>\n",
       "      <td>21</td>\n",
       "      <td>31</td>\n",
       "      <td>21</td>\n",
       "      <td>131</td>\n",
       "      <td>132</td>\n",
       "      <td>23</td>\n",
       "      <td>39</td>\n",
       "      <td>24</td>\n",
       "      <td>45</td>\n",
       "      <td>30</td>\n",
       "      <td>55</td>\n",
       "      <td>5</td>\n",
       "      <td>56</td>\n",
       "      <td>33</td>\n",
       "      <td>0</td>\n",
       "      <td>9</td>\n",
       "      <td>29</td>\n",
       "      <td>5</td>\n",
       "      <td>278</td>\n",
       "      <td>16</td>\n",
       "    </tr>\n",
       "    <tr>\n",
       "      <th>15</th>\n",
       "      <td>72</td>\n",
       "      <td>10</td>\n",
       "      <td>9</td>\n",
       "      <td>111</td>\n",
       "      <td>36</td>\n",
       "      <td>5</td>\n",
       "      <td>30</td>\n",
       "      <td>14</td>\n",
       "      <td>21</td>\n",
       "      <td>20</td>\n",
       "      <td>151</td>\n",
       "      <td>15</td>\n",
       "      <td>13</td>\n",
       "      <td>53</td>\n",
       "      <td>9</td>\n",
       "      <td>0</td>\n",
       "      <td>8</td>\n",
       "      <td>73</td>\n",
       "      <td>231</td>\n",
       "      <td>12</td>\n",
       "    </tr>\n",
       "    <tr>\n",
       "      <th>16</th>\n",
       "      <td>26</td>\n",
       "      <td>24</td>\n",
       "      <td>8</td>\n",
       "      <td>71</td>\n",
       "      <td>75</td>\n",
       "      <td>20</td>\n",
       "      <td>22</td>\n",
       "      <td>53</td>\n",
       "      <td>28</td>\n",
       "      <td>9</td>\n",
       "      <td>47</td>\n",
       "      <td>27</td>\n",
       "      <td>41</td>\n",
       "      <td>35</td>\n",
       "      <td>29</td>\n",
       "      <td>8</td>\n",
       "      <td>0</td>\n",
       "      <td>13</td>\n",
       "      <td>173</td>\n",
       "      <td>17</td>\n",
       "    </tr>\n",
       "    <tr>\n",
       "      <th>17</th>\n",
       "      <td>45</td>\n",
       "      <td>5</td>\n",
       "      <td>3</td>\n",
       "      <td>68</td>\n",
       "      <td>35</td>\n",
       "      <td>10</td>\n",
       "      <td>15</td>\n",
       "      <td>18</td>\n",
       "      <td>14</td>\n",
       "      <td>30</td>\n",
       "      <td>162</td>\n",
       "      <td>22</td>\n",
       "      <td>10</td>\n",
       "      <td>88</td>\n",
       "      <td>5</td>\n",
       "      <td>73</td>\n",
       "      <td>13</td>\n",
       "      <td>0</td>\n",
       "      <td>254</td>\n",
       "      <td>8</td>\n",
       "    </tr>\n",
       "    <tr>\n",
       "      <th>18</th>\n",
       "      <td>435</td>\n",
       "      <td>242</td>\n",
       "      <td>169</td>\n",
       "      <td>1021</td>\n",
       "      <td>761</td>\n",
       "      <td>142</td>\n",
       "      <td>412</td>\n",
       "      <td>224</td>\n",
       "      <td>253</td>\n",
       "      <td>182</td>\n",
       "      <td>698</td>\n",
       "      <td>74</td>\n",
       "      <td>265</td>\n",
       "      <td>397</td>\n",
       "      <td>278</td>\n",
       "      <td>231</td>\n",
       "      <td>173</td>\n",
       "      <td>254</td>\n",
       "      <td>0</td>\n",
       "      <td>265</td>\n",
       "    </tr>\n",
       "    <tr>\n",
       "      <th>19</th>\n",
       "      <td>37</td>\n",
       "      <td>56</td>\n",
       "      <td>19</td>\n",
       "      <td>125</td>\n",
       "      <td>171</td>\n",
       "      <td>39</td>\n",
       "      <td>39</td>\n",
       "      <td>8</td>\n",
       "      <td>33</td>\n",
       "      <td>56</td>\n",
       "      <td>84</td>\n",
       "      <td>4</td>\n",
       "      <td>48</td>\n",
       "      <td>61</td>\n",
       "      <td>16</td>\n",
       "      <td>12</td>\n",
       "      <td>17</td>\n",
       "      <td>8</td>\n",
       "      <td>265</td>\n",
       "      <td>0</td>\n",
       "    </tr>\n",
       "  </tbody>\n",
       "</table>\n",
       "</div>"
      ],
      "text/plain": [
       "      0    1    2     3    4    5    6    7    8    9   10  11   12   13   14  \\\n",
       "0     0   41   91   235  166   33   58   56   50   97  192  20   43  135   21   \n",
       "1    41    0   21    10  263   53    9    9   56   33  182   3   73   50   31   \n",
       "2    91   21    0    91   69   17   24   10   16   21   70   6   22   47   21   \n",
       "3   235   10   91     0  177   30  438  104   60   64  101  20   46  162  131   \n",
       "4   166  263   69   177    0  287   56   40  335  122  360  11  326  236  132   \n",
       "5    33   53   17    30  287    0   17    5  150   40   89   4  108   80   23   \n",
       "6    58    9   24   438   56   17    0   29   21   23   26   1    8   56   39   \n",
       "7    56    9   10   104   40    5   29    0   29   19   52  49   16   34   24   \n",
       "8    50   56   16    60  335  150   21   29    0   40  129  29  125   85   45   \n",
       "9    97   33   21    64  122   40   23   19   40    0  122  15   38  117   30   \n",
       "10  192  182   70   101  360   89   26   52  129  122    0  31  130  205   55   \n",
       "11   20    3    6    20   11    4    1   49   29   15   31   0    5   18    5   \n",
       "12   43   73   22    46  326  108    8   16  125   38  130   5    0   66   56   \n",
       "13  135   50   47   162  236   80   56   34   85  117  205  18   66    0   33   \n",
       "14   21   31   21   131  132   23   39   24   45   30   55   5   56   33    0   \n",
       "15   72   10    9   111   36    5   30   14   21   20  151  15   13   53    9   \n",
       "16   26   24    8    71   75   20   22   53   28    9   47  27   41   35   29   \n",
       "17   45    5    3    68   35   10   15   18   14   30  162  22   10   88    5   \n",
       "18  435  242  169  1021  761  142  412  224  253  182  698  74  265  397  278   \n",
       "19   37   56   19   125  171   39   39    8   33   56   84   4   48   61   16   \n",
       "\n",
       "     15   16   17    18   19  \n",
       "0    72   26   45   435   37  \n",
       "1    10   24    5   242   56  \n",
       "2     9    8    3   169   19  \n",
       "3   111   71   68  1021  125  \n",
       "4    36   75   35   761  171  \n",
       "5     5   20   10   142   39  \n",
       "6    30   22   15   412   39  \n",
       "7    14   53   18   224    8  \n",
       "8    21   28   14   253   33  \n",
       "9    20    9   30   182   56  \n",
       "10  151   47  162   698   84  \n",
       "11   15   27   22    74    4  \n",
       "12   13   41   10   265   48  \n",
       "13   53   35   88   397   61  \n",
       "14    9   29    5   278   16  \n",
       "15    0    8   73   231   12  \n",
       "16    8    0   13   173   17  \n",
       "17   73   13    0   254    8  \n",
       "18  231  173  254     0  265  \n",
       "19   12   17    8   265    0  "
      ]
     },
     "execution_count": 36,
     "metadata": {},
     "output_type": "execute_result"
    }
   ],
   "source": [
    "mdf.head(20)"
   ]
  },
  {
   "cell_type": "code",
   "execution_count": 37,
   "metadata": {},
   "outputs": [
    {
     "data": {
      "text/plain": [
       "0     1853\n",
       "1     1171\n",
       "2      734\n",
       "3     3065\n",
       "4     3658\n",
       "5     1152\n",
       "6     1323\n",
       "7      793\n",
       "8     1519\n",
       "9     1078\n",
       "10    2886\n",
       "11     359\n",
       "12    1439\n",
       "13    1958\n",
       "14     983\n",
       "15     893\n",
       "16     726\n",
       "17     878\n",
       "18    6476\n",
       "19    1098\n",
       "dtype: int64"
      ]
     },
     "execution_count": 37,
     "metadata": {},
     "output_type": "execute_result"
    }
   ],
   "source": [
    "mdf.sum()"
   ]
  },
  {
   "cell_type": "code",
   "execution_count": 38,
   "metadata": {},
   "outputs": [
    {
     "data": {
      "text/html": [
       "<div>\n",
       "<style scoped>\n",
       "    .dataframe tbody tr th:only-of-type {\n",
       "        vertical-align: middle;\n",
       "    }\n",
       "\n",
       "    .dataframe tbody tr th {\n",
       "        vertical-align: top;\n",
       "    }\n",
       "\n",
       "    .dataframe thead th {\n",
       "        text-align: right;\n",
       "    }\n",
       "</style>\n",
       "<table border=\"1\" class=\"dataframe\">\n",
       "  <thead>\n",
       "    <tr style=\"text-align: right;\">\n",
       "      <th></th>\n",
       "      <th>flavor_name</th>\n",
       "    </tr>\n",
       "  </thead>\n",
       "  <tbody>\n",
       "    <tr>\n",
       "      <th>0</th>\n",
       "      <td>almond</td>\n",
       "    </tr>\n",
       "    <tr>\n",
       "      <th>1</th>\n",
       "      <td>apple</td>\n",
       "    </tr>\n",
       "    <tr>\n",
       "      <th>2</th>\n",
       "      <td>cherry</td>\n",
       "    </tr>\n",
       "    <tr>\n",
       "      <th>3</th>\n",
       "      <td>chocolate</td>\n",
       "    </tr>\n",
       "    <tr>\n",
       "      <th>4</th>\n",
       "      <td>cinnamon</td>\n",
       "    </tr>\n",
       "    <tr>\n",
       "      <th>5</th>\n",
       "      <td>clove</td>\n",
       "    </tr>\n",
       "    <tr>\n",
       "      <th>6</th>\n",
       "      <td>cocoa</td>\n",
       "    </tr>\n",
       "    <tr>\n",
       "      <th>7</th>\n",
       "      <td>coconut</td>\n",
       "    </tr>\n",
       "    <tr>\n",
       "      <th>8</th>\n",
       "      <td>ginger</td>\n",
       "    </tr>\n",
       "    <tr>\n",
       "      <th>9</th>\n",
       "      <td>honey</td>\n",
       "    </tr>\n",
       "    <tr>\n",
       "      <th>10</th>\n",
       "      <td>lemon</td>\n",
       "    </tr>\n",
       "    <tr>\n",
       "      <th>11</th>\n",
       "      <td>lime</td>\n",
       "    </tr>\n",
       "    <tr>\n",
       "      <th>12</th>\n",
       "      <td>nutmeg</td>\n",
       "    </tr>\n",
       "    <tr>\n",
       "      <th>13</th>\n",
       "      <td>orange</td>\n",
       "    </tr>\n",
       "    <tr>\n",
       "      <th>14</th>\n",
       "      <td>pecan</td>\n",
       "    </tr>\n",
       "    <tr>\n",
       "      <th>15</th>\n",
       "      <td>raspberry</td>\n",
       "    </tr>\n",
       "    <tr>\n",
       "      <th>16</th>\n",
       "      <td>rum</td>\n",
       "    </tr>\n",
       "    <tr>\n",
       "      <th>17</th>\n",
       "      <td>strawberry</td>\n",
       "    </tr>\n",
       "    <tr>\n",
       "      <th>18</th>\n",
       "      <td>vanilla</td>\n",
       "    </tr>\n",
       "    <tr>\n",
       "      <th>19</th>\n",
       "      <td>walnut</td>\n",
       "    </tr>\n",
       "  </tbody>\n",
       "</table>\n",
       "</div>"
      ],
      "text/plain": [
       "   flavor_name\n",
       "0       almond\n",
       "1        apple\n",
       "2       cherry\n",
       "3    chocolate\n",
       "4     cinnamon\n",
       "5        clove\n",
       "6        cocoa\n",
       "7      coconut\n",
       "8       ginger\n",
       "9        honey\n",
       "10       lemon\n",
       "11        lime\n",
       "12      nutmeg\n",
       "13      orange\n",
       "14       pecan\n",
       "15   raspberry\n",
       "16         rum\n",
       "17  strawberry\n",
       "18     vanilla\n",
       "19      walnut"
      ]
     },
     "execution_count": 38,
     "metadata": {},
     "output_type": "execute_result"
    }
   ],
   "source": [
    "names = np.unique(data).tolist()\n",
    "name_df = pd.DataFrame(names, columns=['flavor_name'])\n",
    "name_df"
   ]
  },
  {
   "cell_type": "code",
   "execution_count": 39,
   "metadata": {},
   "outputs": [],
   "source": [
    "color_dic = {\n",
    "     'almond': \"#b06e31\",\n",
    "     'apple': \"#cf350e\",\n",
    "     'cherry': \"#8f0b0b\",\n",
    "     'chocolate': \"#2B1700\",\n",
    "     'cinnamon': \"#622A0F\",\n",
    "     'clove': \"#B5651D\",\n",
    "     'cocoa': \"#3B270C\",\n",
    "     'coconut': \"#EE8130\",\n",
    "     'ginger': \"#db6d09\",\n",
    "     'honey': \"#ebb028\",\n",
    "     'lemon': \"#e8ce25\",\n",
    "     'lime': \"#5ce825\",\n",
    "     'nutmeg': \"#7e4a3b\",\n",
    "     'orange': \"#e88325\",\n",
    "     'pecan': \"#48260D\",\n",
    "     'raspberry': \"#db1f1f\",\n",
    "     'rum': \"#D7C5A9\",\n",
    "     'strawberry': \"#FC5A8D\",\n",
    "     'vanilla': \"#F9E5BC\",\n",
    "     'walnut': \"#43270F\"\n",
    "}"
   ]
  },
  {
   "cell_type": "code",
   "execution_count": 40,
   "metadata": {},
   "outputs": [],
   "source": [
    "name_df['color'] = name_df['flavor_name'].map(color_dic)"
   ]
  },
  {
   "cell_type": "code",
   "execution_count": 41,
   "metadata": {},
   "outputs": [
    {
     "data": {
      "text/html": [
       "<div>\n",
       "<style scoped>\n",
       "    .dataframe tbody tr th:only-of-type {\n",
       "        vertical-align: middle;\n",
       "    }\n",
       "\n",
       "    .dataframe tbody tr th {\n",
       "        vertical-align: top;\n",
       "    }\n",
       "\n",
       "    .dataframe thead th {\n",
       "        text-align: right;\n",
       "    }\n",
       "</style>\n",
       "<table border=\"1\" class=\"dataframe\">\n",
       "  <thead>\n",
       "    <tr style=\"text-align: right;\">\n",
       "      <th></th>\n",
       "      <th>flavor_name</th>\n",
       "      <th>color</th>\n",
       "    </tr>\n",
       "  </thead>\n",
       "  <tbody>\n",
       "    <tr>\n",
       "      <th>0</th>\n",
       "      <td>almond</td>\n",
       "      <td>#b06e31</td>\n",
       "    </tr>\n",
       "    <tr>\n",
       "      <th>1</th>\n",
       "      <td>apple</td>\n",
       "      <td>#cf350e</td>\n",
       "    </tr>\n",
       "    <tr>\n",
       "      <th>2</th>\n",
       "      <td>cherry</td>\n",
       "      <td>#8f0b0b</td>\n",
       "    </tr>\n",
       "    <tr>\n",
       "      <th>3</th>\n",
       "      <td>chocolate</td>\n",
       "      <td>#2B1700</td>\n",
       "    </tr>\n",
       "    <tr>\n",
       "      <th>4</th>\n",
       "      <td>cinnamon</td>\n",
       "      <td>#622A0F</td>\n",
       "    </tr>\n",
       "    <tr>\n",
       "      <th>5</th>\n",
       "      <td>clove</td>\n",
       "      <td>#B5651D</td>\n",
       "    </tr>\n",
       "    <tr>\n",
       "      <th>6</th>\n",
       "      <td>cocoa</td>\n",
       "      <td>#3B270C</td>\n",
       "    </tr>\n",
       "    <tr>\n",
       "      <th>7</th>\n",
       "      <td>coconut</td>\n",
       "      <td>#EE8130</td>\n",
       "    </tr>\n",
       "    <tr>\n",
       "      <th>8</th>\n",
       "      <td>ginger</td>\n",
       "      <td>#db6d09</td>\n",
       "    </tr>\n",
       "    <tr>\n",
       "      <th>9</th>\n",
       "      <td>honey</td>\n",
       "      <td>#ebb028</td>\n",
       "    </tr>\n",
       "    <tr>\n",
       "      <th>10</th>\n",
       "      <td>lemon</td>\n",
       "      <td>#e8ce25</td>\n",
       "    </tr>\n",
       "    <tr>\n",
       "      <th>11</th>\n",
       "      <td>lime</td>\n",
       "      <td>#5ce825</td>\n",
       "    </tr>\n",
       "    <tr>\n",
       "      <th>12</th>\n",
       "      <td>nutmeg</td>\n",
       "      <td>#7e4a3b</td>\n",
       "    </tr>\n",
       "    <tr>\n",
       "      <th>13</th>\n",
       "      <td>orange</td>\n",
       "      <td>#e88325</td>\n",
       "    </tr>\n",
       "    <tr>\n",
       "      <th>14</th>\n",
       "      <td>pecan</td>\n",
       "      <td>#48260D</td>\n",
       "    </tr>\n",
       "    <tr>\n",
       "      <th>15</th>\n",
       "      <td>raspberry</td>\n",
       "      <td>#db1f1f</td>\n",
       "    </tr>\n",
       "    <tr>\n",
       "      <th>16</th>\n",
       "      <td>rum</td>\n",
       "      <td>#D7C5A9</td>\n",
       "    </tr>\n",
       "    <tr>\n",
       "      <th>17</th>\n",
       "      <td>strawberry</td>\n",
       "      <td>#FC5A8D</td>\n",
       "    </tr>\n",
       "    <tr>\n",
       "      <th>18</th>\n",
       "      <td>vanilla</td>\n",
       "      <td>#F9E5BC</td>\n",
       "    </tr>\n",
       "    <tr>\n",
       "      <th>19</th>\n",
       "      <td>walnut</td>\n",
       "      <td>#43270F</td>\n",
       "    </tr>\n",
       "  </tbody>\n",
       "</table>\n",
       "</div>"
      ],
      "text/plain": [
       "   flavor_name    color\n",
       "0       almond  #b06e31\n",
       "1        apple  #cf350e\n",
       "2       cherry  #8f0b0b\n",
       "3    chocolate  #2B1700\n",
       "4     cinnamon  #622A0F\n",
       "5        clove  #B5651D\n",
       "6        cocoa  #3B270C\n",
       "7      coconut  #EE8130\n",
       "8       ginger  #db6d09\n",
       "9        honey  #ebb028\n",
       "10       lemon  #e8ce25\n",
       "11        lime  #5ce825\n",
       "12      nutmeg  #7e4a3b\n",
       "13      orange  #e88325\n",
       "14       pecan  #48260D\n",
       "15   raspberry  #db1f1f\n",
       "16         rum  #D7C5A9\n",
       "17  strawberry  #FC5A8D\n",
       "18     vanilla  #F9E5BC\n",
       "19      walnut  #43270F"
      ]
     },
     "execution_count": 41,
     "metadata": {},
     "output_type": "execute_result"
    }
   ],
   "source": [
    "name_df"
   ]
  },
  {
   "cell_type": "code",
   "execution_count": 42,
   "metadata": {},
   "outputs": [],
   "source": [
    "colors = list(name_df.color.values)"
   ]
  },
  {
   "cell_type": "code",
   "execution_count": 43,
   "metadata": {},
   "outputs": [
    {
     "data": {
      "text/html": [
       "<!DOCTYPE html>\n",
       "<html>\n",
       "  <head>\n",
       "    <!--Chord - Python wrapper around d3-chord\n",
       "\n",
       "    This package enables the generation of Chord diagrams. They can be saved \n",
       "    directly to HTML files or displayed in a Jupyter Notebook output cell.\n",
       "\n",
       "    Copyright 2020, Dr. Shahin Rostami\n",
       "    http://shahinrostami.com\n",
       "    https://github.com/shahinrostami/chord\n",
       "    https://pypi.org/project/chord/\n",
       "    -->\n",
       "  \t<meta http-equiv=\"Content-Type\" content=\"text/html;charset=utf-8\"/>\n",
       "    <title>Chord Diagram</title>\n",
       "    <!-- Google Fonts -->\n",
       "    <script src=\"https://d3js.org/d3.v5.min.js\"></script>\n",
       "    <link\n",
       "      href=\"https://fonts.googleapis.com/css?family=Lato:400,900\"\n",
       "      rel=\"stylesheet\"\n",
       "      type=\"text/css\"\n",
       "    />\n",
       "\n",
       "    <style>\n",
       "      .tippy-content {\n",
       "        font-family: \"Lato\", sans-serif;\n",
       "      }\n",
       "\n",
       "      #chart-d2fd0073 {\n",
       "\n",
       "        font-size: 16px;\n",
       "        font-family: \"Lato\", sans-serif;\n",
       "        text-align: center;\n",
       "        fill: #454545;\n",
       "      }\n",
       "\n",
       "      #chart-d2fd0073 svg {\n",
       "        max-width: 700px;\n",
       "      }\n",
       "\n",
       "      @media (min-width: 600px) {\n",
       "\t\t\t\t#chart-d2fd0073{\n",
       "\t\t\t\t\tfont-size: 20px;\n",
       "\t\t\t\t}\n",
       "\t\t\t}\n",
       "    </style>\n",
       "  </head>\n",
       "  <body>\n",
       "    <div id=\"chart-d2fd0073\" class=\"chord\">\n",
       "    </div>\n",
       "    <script src=\"https://unpkg.com/@popperjs/core@2\"></script>\n",
       "    <script src=\"https://unpkg.com/tippy.js@6\"></script>\n",
       "    <script>\n",
       "      var script = document.createElement(\"script\");\n",
       "      script.type = \"text/javascript\";\n",
       "      script.src = \"https://d3js.org/d3.v5.min.js\";\n",
       "\n",
       "      script.onload = function () {\n",
       "\n",
       "        var script2 = document.createElement(\"script\");\n",
       "        script2.type = \"text/javascript\";\n",
       "        script2.src = \"https://shahinrostami.com/assets/chord/script.js\";\n",
       "\n",
       "        script2.onload = function () {\n",
       "          margin = {\n",
       "          left: 0,\n",
       "          top: 0,\n",
       "          right: 0,\n",
       "          bottom: 0\n",
       "        };\n",
       "        width = Math.min(window.innerWidth, 700) - margin.left - margin.right;\n",
       "        height = Math.min(window.innerWidth, 700) - margin.top - margin.bottom;\n",
       "        innerRadius = Math.min(width, height) * 0.39;\n",
       "        outerRadius = innerRadius * 1.1;\n",
       "\n",
       "      tag_id = \"chart-d2fd0073\";\n",
       "      padding = 0.01;\n",
       "      Names = ['almond', 'apple', 'cherry', 'chocolate', 'cinnamon', 'clove', 'cocoa', 'coconut', 'ginger', 'honey', 'lemon', 'lime', 'nutmeg', 'orange', 'pecan', 'raspberry', 'rum', 'strawberry', 'vanilla', 'walnut'];\n",
       "      colors = ['#b06e31', '#cf350e', '#8f0b0b', '#2B1700', '#622A0F', '#B5651D', '#3B270C', '#EE8130', '#db6d09', '#ebb028', '#e8ce25', '#5ce825', '#7e4a3b', '#e88325', '#48260D', '#db1f1f', '#D7C5A9', '#FC5A8D', '#F9E5BC', '#43270F'];\n",
       "      opacityDefault = 0.8;\n",
       "      matrix = [[0, 41, 91, 235, 166, 33, 58, 56, 50, 97, 192, 20, 43, 135, 21, 72, 26, 45, 435, 37], [41, 0, 21, 10, 263, 53, 9, 9, 56, 33, 182, 3, 73, 50, 31, 10, 24, 5, 242, 56], [91, 21, 0, 91, 69, 17, 24, 10, 16, 21, 70, 6, 22, 47, 21, 9, 8, 3, 169, 19], [235, 10, 91, 0, 177, 30, 438, 104, 60, 64, 101, 20, 46, 162, 131, 111, 71, 68, 1021, 125], [166, 263, 69, 177, 0, 287, 56, 40, 335, 122, 360, 11, 326, 236, 132, 36, 75, 35, 761, 171], [33, 53, 17, 30, 287, 0, 17, 5, 150, 40, 89, 4, 108, 80, 23, 5, 20, 10, 142, 39], [58, 9, 24, 438, 56, 17, 0, 29, 21, 23, 26, 1, 8, 56, 39, 30, 22, 15, 412, 39], [56, 9, 10, 104, 40, 5, 29, 0, 29, 19, 52, 49, 16, 34, 24, 14, 53, 18, 224, 8], [50, 56, 16, 60, 335, 150, 21, 29, 0, 40, 129, 29, 125, 85, 45, 21, 28, 14, 253, 33], [97, 33, 21, 64, 122, 40, 23, 19, 40, 0, 122, 15, 38, 117, 30, 20, 9, 30, 182, 56], [192, 182, 70, 101, 360, 89, 26, 52, 129, 122, 0, 31, 130, 205, 55, 151, 47, 162, 698, 84], [20, 3, 6, 20, 11, 4, 1, 49, 29, 15, 31, 0, 5, 18, 5, 15, 27, 22, 74, 4], [43, 73, 22, 46, 326, 108, 8, 16, 125, 38, 130, 5, 0, 66, 56, 13, 41, 10, 265, 48], [135, 50, 47, 162, 236, 80, 56, 34, 85, 117, 205, 18, 66, 0, 33, 53, 35, 88, 397, 61], [21, 31, 21, 131, 132, 23, 39, 24, 45, 30, 55, 5, 56, 33, 0, 9, 29, 5, 278, 16], [72, 10, 9, 111, 36, 5, 30, 14, 21, 20, 151, 15, 13, 53, 9, 0, 8, 73, 231, 12], [26, 24, 8, 71, 75, 20, 22, 53, 28, 9, 47, 27, 41, 35, 29, 8, 0, 13, 173, 17], [45, 5, 3, 68, 35, 10, 15, 18, 14, 30, 162, 22, 10, 88, 5, 73, 13, 0, 254, 8], [435, 242, 169, 1021, 761, 142, 412, 224, 253, 182, 698, 74, 265, 397, 278, 231, 173, 254, 0, 265], [37, 56, 19, 125, 171, 39, 39, 8, 33, 56, 84, 4, 48, 61, 16, 12, 17, 8, 265, 0]];\n",
       "      wrap_labels = false;\n",
       "      credit = false\n",
       "      \n",
       "      ////////////////////////////////////////////////////////////\n",
       "      /////////// Create scale and layout functions //////////////\n",
       "      ////////////////////////////////////////////////////////////\n",
       "\n",
       "      var colors = d3\n",
       "        .scaleOrdinal()\n",
       "        .domain(d3.range(Names.length))\n",
       "        .range(colors);\n",
       "\n",
       "      //A \"custom\" d3 chord function that automatically sorts the order of the chords in such a manner to reduce overlap\n",
       "      var chord = customChordLayout()\n",
       "        .padding(padding)\n",
       "        .sortChords(d3.descending) //which chord should be shown on top when chords cross. Now the biggest chord is at the bottom\n",
       "        .matrix(matrix);\n",
       "\n",
       "      var arc = d3\n",
       "        .arc()\n",
       "        .innerRadius(innerRadius * 1.01)\n",
       "        .outerRadius(outerRadius);\n",
       "\n",
       "      var path = d3.ribbon().radius(innerRadius);\n",
       "\n",
       "      ////////////////////////////////////////////////////////////\n",
       "      ////////////////////// Create SVG //////////////////////////\n",
       "      ///////////////////////////////////////////////////////////\n",
       "\n",
       "      var svg = d3\n",
       "        .select(\"#\" + tag_id)\n",
       "        .append(\"svg\")\n",
       "        .attr(\n",
       "          \"viewBox\",\n",
       "          \"0 0 \" +\n",
       "            (width + margin.left + margin.right) +\n",
       "          \" \" +\n",
       "          (height + margin.top + margin.bottom)\n",
       "        )\n",
       "        .attr(\"preserveAspectRatio\", \"xMinYMin meet\")\n",
       "        .append(\"g\")\n",
       "        .attr(\n",
       "          \"transform\",\n",
       "          \"translate(\" +\n",
       "            (width / 2 + margin.left) +\n",
       "            \",\" +\n",
       "            (height / 2 + margin.top) +\n",
       "            \")\"\n",
       "        );\n",
       "\n",
       "      d3.select(\"#\" + tag_id)\n",
       "        .append(\"span\")\n",
       "        .style(\"display\", \"block\")\n",
       "        .style(\"font-size\", \"12px\")\n",
       "        .style(\"text-align\", \"right\")\n",
       "        .style(\"font-family\", '\"Arial\", sans-serif')\n",
       "        .html(\n",
       "          'made with <a href=\"https://github.com/shahinrostami/chord\">chord</a></span>'\n",
       "        );\n",
       "\n",
       "      if(credit){\n",
       "      d3.select(\"#\" + tag_id).select(\"span\")\n",
       "        .append(\"span\")\n",
       "        .style(\"font-size\", \"12px\")\n",
       "        .style(\"font-family\", '\"Arial\", sans-serif')\n",
       "        .html(\n",
       "          ' [<a href=\"https://twitter.com/shahinrostami\">@ShahinRostami</a>]</span>'\n",
       "        );\n",
       "      }\n",
       "\n",
       "      ////////////////////////////////////////////////////////////\n",
       "      /////////////// Create the gradient fills //////////////////\n",
       "      ////////////////////////////////////////////////////////////\n",
       "\n",
       "      //Function to create the id for each chord gradient\n",
       "      function getGradID(d) {\n",
       "        return (\n",
       "          \"linkGrad-\" + tag_id + \"-\" + d.source.index + \"-\" + d.target.index\n",
       "        );\n",
       "      }\n",
       "\n",
       "      //Create the gradients definitions for each chord\n",
       "      var grads = svg\n",
       "        .append(\"defs\")\n",
       "        .selectAll(\"linearGradient\")\n",
       "        .data(chord.chords())\n",
       "        .enter()\n",
       "        .append(\"linearGradient\")\n",
       "        .attr(\"id\", getGradID)\n",
       "        .attr(\"gradientUnits\", \"userSpaceOnUse\")\n",
       "        .attr(\"x1\", function (d, i) {\n",
       "          return (\n",
       "            innerRadius *\n",
       "            Math.cos(\n",
       "              (d.source.endAngle - d.source.startAngle) / 2 +\n",
       "                d.source.startAngle -\n",
       "                Math.PI / 2\n",
       "            )\n",
       "          );\n",
       "        })\n",
       "        .attr(\"y1\", function (d, i) {\n",
       "          return (\n",
       "            innerRadius *\n",
       "            Math.sin(\n",
       "              (d.source.endAngle - d.source.startAngle) / 2 +\n",
       "                d.source.startAngle -\n",
       "                Math.PI / 2\n",
       "            )\n",
       "          );\n",
       "        })\n",
       "        .attr(\"x2\", function (d, i) {\n",
       "          return (\n",
       "            innerRadius *\n",
       "            Math.cos(\n",
       "              (d.target.endAngle - d.target.startAngle) / 2 +\n",
       "                d.target.startAngle -\n",
       "                Math.PI / 2\n",
       "            )\n",
       "          );\n",
       "        })\n",
       "        .attr(\"y2\", function (d, i) {\n",
       "          return (\n",
       "            innerRadius *\n",
       "            Math.sin(\n",
       "              (d.target.endAngle - d.target.startAngle) / 2 +\n",
       "                d.target.startAngle -\n",
       "                Math.PI / 2\n",
       "            )\n",
       "          );\n",
       "        });\n",
       "\n",
       "      //Set the starting color (at 0%)\n",
       "      grads\n",
       "        .append(\"stop\")\n",
       "        .attr(\"offset\", \"0%\")\n",
       "        .attr(\"stop-color\", function (d) {\n",
       "          return colors(d.source.index);\n",
       "        });\n",
       "\n",
       "      //Set the ending color (at 100%)\n",
       "      grads\n",
       "        .append(\"stop\")\n",
       "        .attr(\"offset\", \"100%\")\n",
       "        .attr(\"stop-color\", function (d) {\n",
       "          return colors(d.target.index);\n",
       "        });\n",
       "\n",
       "      ////////////////////////////////////////////////////////////\n",
       "      ////////////////// Draw outer Arcs /////////////////////////\n",
       "      ////////////////////////////////////////////////////////////\n",
       "\n",
       "      var outerArcs = svg\n",
       "        .selectAll(\"g.group\")\n",
       "        .data(chord.groups)\n",
       "        .enter()\n",
       "        .append(\"g\")\n",
       "        .attr(\"class\", \"group\")\n",
       "        .on(\"mouseover\", fade(0.1, 1))\n",
       "        .on(\"mouseout\", fade(opacityDefault, opacityDefault));\n",
       "\n",
       "      outerArcs\n",
       "        .append(\"path\")\n",
       "        .style(\"fill\", function (d) {\n",
       "          return colors(d.index);\n",
       "        })\n",
       "        .attr(\"d\", arc)\n",
       "        .each(function (d, i) {\n",
       "          //Search pattern for everything between the start and the first capital L\n",
       "          var firstArcSection = /(^.+?)L/;\n",
       "\n",
       "          //Grab everything up to the first Line statement\n",
       "          var newArc = firstArcSection.exec(d3.select(this).attr(\"d\"))[1];\n",
       "          //Replace all the comma's so that IE can handle it\n",
       "          newArc = newArc.replace(/,/g, \" \");\n",
       "\n",
       "          //If the end angle lies beyond a quarter of a circle (90 degrees or pi/2)\n",
       "          //flip the end and start position\n",
       "          if (\n",
       "            (d.endAngle > (90 * Math.PI) / 180) &\n",
       "            (d.startAngle < (270 * Math.PI) / 180)\n",
       "          ) {\n",
       "            var startLoc = /M(.*?)A/, //Everything between the first capital M and first capital A\n",
       "              middleLoc = /A(.*?)0 0 1/, //Everything between the first capital A and 0 0 1\n",
       "              endLoc = /0 0 1 (.*?)$/; //Everything between the first 0 0 1 and the end of the string (denoted by $)\n",
       "            //Flip the direction of the arc by switching the start en end point (and sweep flag)\n",
       "            //of those elements that are below the horizontal line\n",
       "            var newStart = endLoc.exec(newArc)[1];\n",
       "            var newEnd = startLoc.exec(newArc)[1];\n",
       "            var middleSec = middleLoc.exec(newArc)[1];\n",
       "\n",
       "            //Build up the new arc notation, set the sweep-flag to 0\n",
       "            newArc = \"M\" + newStart + \"A\" + middleSec + \"0 0 0 \" + newEnd;\n",
       "          } //if\n",
       "\n",
       "          //Create a new invisible arc that the text can flow along\n",
       "          svg\n",
       "            .append(\"path\")\n",
       "            .attr(\"class\", \"hiddenArcs\")\n",
       "            .attr(\"id\", \"arc-\" + tag_id + \"-\" + i)\n",
       "            .attr(\"d\", newArc)\n",
       "            .style(\"fill\", \"none\");\n",
       "\n",
       "          ////////////////////////////////////////////////////////////\n",
       "          ////////////////// Append Names ////////////////////////////\n",
       "          ////////////////////////////////////////////////////////////\n",
       "\n",
       "          //Append the label names on the outside\n",
       "\n",
       "          if (wrap_labels) {\n",
       "            outerArcs\n",
       "              .append(\"text\")\n",
       "              .attr(\"class\", \"titles\")\n",
       "              .attr(\"dy\", function (d, i) {\n",
       "                return (d.endAngle > (90 * Math.PI) / 180) &\n",
       "                  (d.startAngle < (270 * Math.PI) / 180)\n",
       "                  ? 25\n",
       "                  : -16;\n",
       "              })\n",
       "              .append(\"textPath\")\n",
       "              .attr(\"startOffset\", \"50%\")\n",
       "              .style(\"text-anchor\", \"middle\")\n",
       "              .attr(\"xlink:href\", function (d, i) {\n",
       "                return \"#arc-\" + tag_id + \"-\" + i;\n",
       "              })\n",
       "              .text(function (d, i) {\n",
       "                return Names[i];\n",
       "              });\n",
       "          } else {\n",
       "            //Append the label names on the outside\n",
       "            outerArcs\n",
       "              .append(\"text\")\n",
       "              .each(function (d) {\n",
       "                d.angle = (d.startAngle + d.endAngle) / 2;\n",
       "              })\n",
       "              .attr(\"dy\", \".35em\")\n",
       "              .attr(\"class\", \"titles\")\n",
       "              .attr(\"text-anchor\", function (d) {\n",
       "                return d.angle > Math.PI ? \"end\" : null;\n",
       "              })\n",
       "              .attr(\"transform\", function (d) {\n",
       "                return (\n",
       "                  \"rotate(\" +\n",
       "                  ((d.angle * 180) / Math.PI - 90) +\n",
       "                  \")\" +\n",
       "                  \"translate(\" +\n",
       "                  (outerRadius + 10) +\n",
       "                  \")\" +\n",
       "                  (d.angle > Math.PI ? \"rotate(180)\" : \"\")\n",
       "                );\n",
       "              })\n",
       "              .text(function (d, i) {\n",
       "                return Names[i];\n",
       "              });\n",
       "          }\n",
       "\n",
       "          ////////////////////////////////////////////////////////////\n",
       "          ////////////////// Draw inner chords ///////////////////////\n",
       "          ////////////////////////////////////////////////////////////\n",
       "\n",
       "          svg\n",
       "            .selectAll(\"path.chord\")\n",
       "            .data(chord.chords)\n",
       "            .enter()\n",
       "            .append(\"path\")\n",
       "            .attr(\"class\", \"chord\")\n",
       "            .style(\"fill\", function (d) {\n",
       "              return \"url(#\" + getGradID(d) + \")\";\n",
       "            })\n",
       "            .style(\"opacity\", opacityDefault)\n",
       "            .attr(\"d\", path)\n",
       "            .on(\"mouseover\", mouseoverChord)\n",
       "            .on(\"mouseout\", mouseoutChord(opacityDefault, opacityDefault));\n",
       "        });\n",
       "      ////////////////////////////////////////////////////////////\n",
       "      ////////////////// Extra Functions /////////////////////////\n",
       "      ////////////////////////////////////////////////////////////\n",
       "\n",
       "      //Returns an event handler for fading a given chord group.\n",
       "      function fade(opacityIn, opacityOut) {\n",
       "        return function (d, i) {\n",
       "          d3.select(this.ownerSVGElement)\n",
       "            .selectAll(\"path.chord\")\n",
       "            .filter(function (d) {\n",
       "              return d.source.index !== i && d.target.index !== i;\n",
       "            })\n",
       "            .transition()\n",
       "            .style(\"opacity\", opacityIn);\n",
       "\n",
       "          d3.select(this.ownerSVGElement)\n",
       "            .selectAll(\"path.chord\")\n",
       "            .filter(function (d) {\n",
       "              return d.source.index == i || d.target.index == i;\n",
       "            })\n",
       "            .transition()\n",
       "            .style(\"opacity\", opacityOut);\n",
       "\n",
       "            \n",
       "        };\n",
       "      } //fade\n",
       "\n",
       "      //Highlight hovered over chord\n",
       "      function mouseoverChord(d, i) {\n",
       "        d3.select(this.ownerSVGElement)\n",
       "          .selectAll(\"path.chord\")\n",
       "          .transition()\n",
       "          .style(\"opacity\", 0.1);\n",
       "        //Show hovered over chord with full opacity\n",
       "        d3.select(this).transition().style(\"opacity\", 1);\n",
       "\n",
       "        tippy(d3.select(this).node(), {\n",
       "          allowHTML: true,\n",
       "          followCursor: true,\n",
       "          content:\n",
       "            \"<span style='font-weight:900'>\" +\n",
       "            Names[d.source.index] +\n",
       "            \"</span> and <span style='font-weight:900'>\" +\n",
       "            Names[d.target.index] +\n",
       "            \"</span><br>occur together in <span style='font-weight:900'>\" +\n",
       "            d.source.value +\n",
       "            \"</span> instances\",\n",
       "          size: \"large\",\n",
       "          arrow: true,\n",
       "        });\n",
       "      } //mouseoverChord\n",
       "\n",
       "      //Bring all chords back to default opacity\n",
       "      function mouseoutChord(opacityIn, opacityOut) {\n",
       "        return function (d, i) {\n",
       "        d3.select(this.ownerSVGElement)\n",
       "          .selectAll(\"path.chord\")\n",
       "          .transition()\n",
       "          .style(\"opacity\", opacityOut);\n",
       "        };\n",
       "        //Set opacity back to default for all\n",
       "      } //function mouseoutChord\n",
       "\n",
       "\n",
       "        };\n",
       "        document.body.appendChild(script2);\n",
       "      };\n",
       "\n",
       "      document.body.appendChild(script);\n",
       "    </script>\n",
       "    <script></script>\n",
       "  </body>\n",
       "</html>\n"
      ],
      "text/plain": [
       "<IPython.core.display.HTML object>"
      ]
     },
     "metadata": {},
     "output_type": "display_data"
    }
   ],
   "source": [
    "Chord(matrix, names, colors=colors, wrap_labels=False).show()"
   ]
  },
  {
   "cell_type": "code",
   "execution_count": 44,
   "metadata": {},
   "outputs": [],
   "source": [
    "Chord(matrix, names, colors=colors, wrap_labels=False).to_html()"
   ]
  },
  {
   "cell_type": "code",
   "execution_count": null,
   "metadata": {},
   "outputs": [],
   "source": []
  }
 ],
 "metadata": {
  "kernelspec": {
   "display_name": "Python 3",
   "language": "python",
   "name": "python3"
  },
  "language_info": {
   "codemirror_mode": {
    "name": "ipython",
    "version": 3
   },
   "file_extension": ".py",
   "mimetype": "text/x-python",
   "name": "python",
   "nbconvert_exporter": "python",
   "pygments_lexer": "ipython3",
   "version": "3.7.6"
  },
  "widgets": {
   "application/vnd.jupyter.widget-state+json": {
    "state": {},
    "version_major": 2,
    "version_minor": 0
   }
  }
 },
 "nbformat": 4,
 "nbformat_minor": 4
}
